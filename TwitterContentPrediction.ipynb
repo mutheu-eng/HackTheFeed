{
 "cells": [
  {
   "cell_type": "markdown",
   "metadata": {},
   "source": [
    "In this notebook, I employ predictive analytics, a potent method for gleaning insights from data and shaping data-driven decision-making. My exploration is grounded in the Twitter dataset, serving as the bedrock of this analysis. Central to my investigation is the anticipation of 'Content Type,' a pivotal metric within the social media domain. 'Content Type' encapsulates a multitude of engagement interactions, including likes, shares, reactions, comments, and saves. These interactions denote the extent to which individuals not only consumed but actively engaged with the content. To accomplish these predictions, I harness a meticulously curated set of features that persist throughout my analysis."
   ]
  },
  {
   "cell_type": "markdown",
   "metadata": {},
   "source": [
    "Importing Libraries "
   ]
  },
  {
   "cell_type": "code",
   "execution_count": 1,
   "metadata": {},
   "outputs": [],
   "source": [
    "import pandas as pd\n",
    "import numpy as np\n",
    "import seaborn as sns\n",
    "import matplotlib.pyplot as plt\n",
    "import warnings\n",
    "warnings.filterwarnings(\"ignore\")"
   ]
  },
  {
   "cell_type": "markdown",
   "metadata": {},
   "source": [
    "Loading Data"
   ]
  },
  {
   "cell_type": "code",
   "execution_count": 3,
   "metadata": {},
   "outputs": [],
   "source": [
    "path = \"C:/Users/user/Downloads/DiceyTechHack\"\n",
    "data = pd.read_csv(path +\"/TwitterData.csv\")"
   ]
  },
  {
   "cell_type": "markdown",
   "metadata": {},
   "source": [
    "Data Familirization"
   ]
  },
  {
   "cell_type": "code",
   "execution_count": 4,
   "metadata": {},
   "outputs": [
    {
     "data": {
      "text/html": [
       "<div>\n",
       "<style scoped>\n",
       "    .dataframe tbody tr th:only-of-type {\n",
       "        vertical-align: middle;\n",
       "    }\n",
       "\n",
       "    .dataframe tbody tr th {\n",
       "        vertical-align: top;\n",
       "    }\n",
       "\n",
       "    .dataframe thead th {\n",
       "        text-align: right;\n",
       "    }\n",
       "</style>\n",
       "<table border=\"1\" class=\"dataframe\">\n",
       "  <thead>\n",
       "    <tr style=\"text-align: right;\">\n",
       "      <th></th>\n",
       "      <th>Date</th>\n",
       "      <th>Content Type</th>\n",
       "      <th>Sent by</th>\n",
       "      <th>Post</th>\n",
       "      <th>Impressions</th>\n",
       "      <th>Potential Reach</th>\n",
       "      <th>Engagement Rate (per Impression)</th>\n",
       "      <th>Engagements</th>\n",
       "      <th>Likes</th>\n",
       "      <th>Comments</th>\n",
       "      <th>...</th>\n",
       "      <th>Post Media Clicks</th>\n",
       "      <th>Post Hashtag Clicks</th>\n",
       "      <th>Post Detail Expand Clicks</th>\n",
       "      <th>Profile Clicks</th>\n",
       "      <th>Other Engagements</th>\n",
       "      <th>Follows from Post</th>\n",
       "      <th>Unfollows from Post</th>\n",
       "      <th>Video Views</th>\n",
       "      <th>Media Views</th>\n",
       "      <th>Tags</th>\n",
       "    </tr>\n",
       "  </thead>\n",
       "  <tbody>\n",
       "    <tr>\n",
       "      <th>0</th>\n",
       "      <td>7/13/2023 10:57</td>\n",
       "      <td>Photo</td>\n",
       "      <td>Sophia Amuka</td>\n",
       "      <td>Your money should not be a gamble. Before you ...</td>\n",
       "      <td>445</td>\n",
       "      <td>345718</td>\n",
       "      <td>0.04</td>\n",
       "      <td>16</td>\n",
       "      <td>4</td>\n",
       "      <td>2</td>\n",
       "      <td>...</td>\n",
       "      <td>1</td>\n",
       "      <td>0</td>\n",
       "      <td>7</td>\n",
       "      <td>1</td>\n",
       "      <td>0</td>\n",
       "      <td>0</td>\n",
       "      <td>0</td>\n",
       "      <td>0</td>\n",
       "      <td>1</td>\n",
       "      <td>CIB Posts</td>\n",
       "    </tr>\n",
       "    <tr>\n",
       "      <th>1</th>\n",
       "      <td>7/12/2023 20:03</td>\n",
       "      <td>Text</td>\n",
       "      <td>Blessing Ubah</td>\n",
       "      <td>What skill (s) do you have, that no one ever t...</td>\n",
       "      <td>2961</td>\n",
       "      <td>347102</td>\n",
       "      <td>0.02</td>\n",
       "      <td>52</td>\n",
       "      <td>11</td>\n",
       "      <td>20</td>\n",
       "      <td>...</td>\n",
       "      <td>0</td>\n",
       "      <td>1</td>\n",
       "      <td>12</td>\n",
       "      <td>5</td>\n",
       "      <td>0</td>\n",
       "      <td>0</td>\n",
       "      <td>0</td>\n",
       "      <td>0</td>\n",
       "      <td>0</td>\n",
       "      <td>Other</td>\n",
       "    </tr>\n",
       "  </tbody>\n",
       "</table>\n",
       "<p>2 rows × 25 columns</p>\n",
       "</div>"
      ],
      "text/plain": [
       "              Date Content Type        Sent by  \\\n",
       "0  7/13/2023 10:57        Photo   Sophia Amuka   \n",
       "1  7/12/2023 20:03         Text  Blessing Ubah   \n",
       "\n",
       "                                                Post  Impressions  \\\n",
       "0  Your money should not be a gamble. Before you ...          445   \n",
       "1  What skill (s) do you have, that no one ever t...         2961   \n",
       "\n",
       "   Potential Reach  Engagement Rate (per Impression)  Engagements  Likes  \\\n",
       "0           345718                              0.04           16      4   \n",
       "1           347102                              0.02           52     11   \n",
       "\n",
       "   Comments  ...  Post Media Clicks  Post Hashtag Clicks  \\\n",
       "0         2  ...                  1                    0   \n",
       "1        20  ...                  0                    1   \n",
       "\n",
       "   Post Detail Expand Clicks  Profile Clicks  Other Engagements  \\\n",
       "0                          7               1                  0   \n",
       "1                         12               5                  0   \n",
       "\n",
       "   Follows from Post  Unfollows from Post  Video Views  Media Views       Tags  \n",
       "0                  0                    0            0            1  CIB Posts  \n",
       "1                  0                    0            0            0      Other  \n",
       "\n",
       "[2 rows x 25 columns]"
      ]
     },
     "execution_count": 4,
     "metadata": {},
     "output_type": "execute_result"
    }
   ],
   "source": [
    "data.head(2)"
   ]
  },
  {
   "cell_type": "markdown",
   "metadata": {},
   "source": [
    "Data Preprocessing"
   ]
  },
  {
   "cell_type": "code",
   "execution_count": 5,
   "metadata": {},
   "outputs": [],
   "source": [
    "data[\"Date\"] = pd.to_datetime(data[\"Date\"])\n",
    "data[\"PostHour\"] = data[\"Date\"].dt.hour\n",
    "data[\"PostMonth\"] = data[\"Date\"].dt.month_name()\n",
    "data[\"PostYear\"] = data[\"Date\"].dt.year"
   ]
  },
  {
   "cell_type": "markdown",
   "metadata": {},
   "source": [
    "Adding a new column "
   ]
  },
  {
   "cell_type": "code",
   "execution_count": 6,
   "metadata": {},
   "outputs": [],
   "source": [
    "data[\"num_post_words\"] = data[\"Post\"].apply(lambda x: len(x.split()))"
   ]
  },
  {
   "cell_type": "code",
   "execution_count": 7,
   "metadata": {},
   "outputs": [],
   "source": [
    "data.drop(\"Post\", axis=1, inplace=True)\n",
    "data.drop(\"Date\", axis=1, inplace=True)"
   ]
  },
  {
   "cell_type": "code",
   "execution_count": 8,
   "metadata": {},
   "outputs": [
    {
     "data": {
      "text/html": [
       "<div>\n",
       "<style scoped>\n",
       "    .dataframe tbody tr th:only-of-type {\n",
       "        vertical-align: middle;\n",
       "    }\n",
       "\n",
       "    .dataframe tbody tr th {\n",
       "        vertical-align: top;\n",
       "    }\n",
       "\n",
       "    .dataframe thead th {\n",
       "        text-align: right;\n",
       "    }\n",
       "</style>\n",
       "<table border=\"1\" class=\"dataframe\">\n",
       "  <thead>\n",
       "    <tr style=\"text-align: right;\">\n",
       "      <th></th>\n",
       "      <th>Content Type</th>\n",
       "      <th>Sent by</th>\n",
       "      <th>Impressions</th>\n",
       "      <th>Potential Reach</th>\n",
       "      <th>Engagement Rate (per Impression)</th>\n",
       "      <th>Engagements</th>\n",
       "      <th>Likes</th>\n",
       "      <th>Comments</th>\n",
       "      <th>Shares</th>\n",
       "      <th>Click-Through Rate</th>\n",
       "      <th>...</th>\n",
       "      <th>Other Engagements</th>\n",
       "      <th>Follows from Post</th>\n",
       "      <th>Unfollows from Post</th>\n",
       "      <th>Video Views</th>\n",
       "      <th>Media Views</th>\n",
       "      <th>Tags</th>\n",
       "      <th>PostHour</th>\n",
       "      <th>PostMonth</th>\n",
       "      <th>PostYear</th>\n",
       "      <th>num_post_words</th>\n",
       "    </tr>\n",
       "  </thead>\n",
       "  <tbody>\n",
       "    <tr>\n",
       "      <th>0</th>\n",
       "      <td>Photo</td>\n",
       "      <td>Sophia Amuka</td>\n",
       "      <td>445</td>\n",
       "      <td>345718</td>\n",
       "      <td>0.04</td>\n",
       "      <td>16</td>\n",
       "      <td>4</td>\n",
       "      <td>2</td>\n",
       "      <td>1</td>\n",
       "      <td>0.0</td>\n",
       "      <td>...</td>\n",
       "      <td>0</td>\n",
       "      <td>0</td>\n",
       "      <td>0</td>\n",
       "      <td>0</td>\n",
       "      <td>1</td>\n",
       "      <td>CIB Posts</td>\n",
       "      <td>10</td>\n",
       "      <td>July</td>\n",
       "      <td>2023</td>\n",
       "      <td>45</td>\n",
       "    </tr>\n",
       "    <tr>\n",
       "      <th>1</th>\n",
       "      <td>Text</td>\n",
       "      <td>Blessing Ubah</td>\n",
       "      <td>2961</td>\n",
       "      <td>347102</td>\n",
       "      <td>0.02</td>\n",
       "      <td>52</td>\n",
       "      <td>11</td>\n",
       "      <td>20</td>\n",
       "      <td>3</td>\n",
       "      <td>0.0</td>\n",
       "      <td>...</td>\n",
       "      <td>0</td>\n",
       "      <td>0</td>\n",
       "      <td>0</td>\n",
       "      <td>0</td>\n",
       "      <td>0</td>\n",
       "      <td>Other</td>\n",
       "      <td>20</td>\n",
       "      <td>July</td>\n",
       "      <td>2023</td>\n",
       "      <td>17</td>\n",
       "    </tr>\n",
       "  </tbody>\n",
       "</table>\n",
       "<p>2 rows × 27 columns</p>\n",
       "</div>"
      ],
      "text/plain": [
       "  Content Type        Sent by  Impressions  Potential Reach  \\\n",
       "0        Photo   Sophia Amuka          445           345718   \n",
       "1         Text  Blessing Ubah         2961           347102   \n",
       "\n",
       "   Engagement Rate (per Impression)  Engagements  Likes  Comments  Shares  \\\n",
       "0                              0.04           16      4         2       1   \n",
       "1                              0.02           52     11        20       3   \n",
       "\n",
       "   Click-Through Rate  ...  Other Engagements  Follows from Post  \\\n",
       "0                 0.0  ...                  0                  0   \n",
       "1                 0.0  ...                  0                  0   \n",
       "\n",
       "   Unfollows from Post  Video Views  Media Views       Tags  PostHour  \\\n",
       "0                    0            0            1  CIB Posts        10   \n",
       "1                    0            0            0      Other        20   \n",
       "\n",
       "   PostMonth  PostYear  num_post_words  \n",
       "0       July      2023              45  \n",
       "1       July      2023              17  \n",
       "\n",
       "[2 rows x 27 columns]"
      ]
     },
     "execution_count": 8,
     "metadata": {},
     "output_type": "execute_result"
    }
   ],
   "source": [
    "data.head(2)"
   ]
  },
  {
   "cell_type": "code",
   "execution_count": 9,
   "metadata": {},
   "outputs": [
    {
     "name": "stdout",
     "output_type": "stream",
     "text": [
      "There are 23 numeric and 4 categorical columns in train data\n"
     ]
    }
   ],
   "source": [
    "numeric_data = data.select_dtypes(include=[np.number])\n",
    "cat_data = data.select_dtypes(exclude=[np.number])\n",
    "print (\"There are {} numeric and {} categorical columns in train data\".format(numeric_data.shape[1],cat_data.shape[1]))"
   ]
  },
  {
   "cell_type": "code",
   "execution_count": 11,
   "metadata": {},
   "outputs": [],
   "source": [
    "from sklearn.preprocessing import LabelEncoder\n",
    "le = LabelEncoder()\n",
    "data[\"Content Type\"] = le.fit_transform(data[\"Content Type\"])"
   ]
  },
  {
   "cell_type": "code",
   "execution_count": 12,
   "metadata": {},
   "outputs": [],
   "source": [
    "X = data.drop([\"Content Type\"],axis=1)\n",
    "y = data[\"Content Type\"]"
   ]
  },
  {
   "cell_type": "markdown",
   "metadata": {},
   "source": [
    "Label Encoding"
   ]
  },
  {
   "cell_type": "code",
   "execution_count": 13,
   "metadata": {},
   "outputs": [],
   "source": [
    "le = LabelEncoder()\n",
    "\n",
    "def processing_data(dataa):\n",
    "     processed_data = data.copy()\n",
    "\n",
    "     categ = [\"Sent by\",\n",
    "              \"Tags\",\n",
    "              \"PostMonth\"]\n",
    "    \n",
    "     for col in categ:\n",
    "        processed_data[col] = le.fit_transform(processed_data[col])\n",
    "\n",
    "     return pd.DataFrame(processed_data, columns = processed_data.columns) "
   ]
  },
  {
   "cell_type": "code",
   "execution_count": 14,
   "metadata": {},
   "outputs": [],
   "source": [
    "processed_X = processing_data(X) "
   ]
  },
  {
   "cell_type": "code",
   "execution_count": 15,
   "metadata": {},
   "outputs": [
    {
     "data": {
      "text/plain": [
       "(8529, 27)"
      ]
     },
     "execution_count": 15,
     "metadata": {},
     "output_type": "execute_result"
    }
   ],
   "source": [
    "processed_X.shape"
   ]
  },
  {
   "cell_type": "code",
   "execution_count": 16,
   "metadata": {},
   "outputs": [
    {
     "data": {
      "text/html": [
       "<div>\n",
       "<style scoped>\n",
       "    .dataframe tbody tr th:only-of-type {\n",
       "        vertical-align: middle;\n",
       "    }\n",
       "\n",
       "    .dataframe tbody tr th {\n",
       "        vertical-align: top;\n",
       "    }\n",
       "\n",
       "    .dataframe thead th {\n",
       "        text-align: right;\n",
       "    }\n",
       "</style>\n",
       "<table border=\"1\" class=\"dataframe\">\n",
       "  <thead>\n",
       "    <tr style=\"text-align: right;\">\n",
       "      <th></th>\n",
       "      <th>Content Type</th>\n",
       "      <th>Sent by</th>\n",
       "      <th>Impressions</th>\n",
       "      <th>Potential Reach</th>\n",
       "      <th>Engagement Rate (per Impression)</th>\n",
       "      <th>Engagements</th>\n",
       "      <th>Likes</th>\n",
       "      <th>Comments</th>\n",
       "      <th>Shares</th>\n",
       "      <th>Click-Through Rate</th>\n",
       "      <th>...</th>\n",
       "      <th>Other Engagements</th>\n",
       "      <th>Follows from Post</th>\n",
       "      <th>Unfollows from Post</th>\n",
       "      <th>Video Views</th>\n",
       "      <th>Media Views</th>\n",
       "      <th>Tags</th>\n",
       "      <th>PostHour</th>\n",
       "      <th>PostMonth</th>\n",
       "      <th>PostYear</th>\n",
       "      <th>num_post_words</th>\n",
       "    </tr>\n",
       "  </thead>\n",
       "  <tbody>\n",
       "    <tr>\n",
       "      <th>0</th>\n",
       "      <td>1</td>\n",
       "      <td>11</td>\n",
       "      <td>445</td>\n",
       "      <td>345718</td>\n",
       "      <td>0.04</td>\n",
       "      <td>16</td>\n",
       "      <td>4</td>\n",
       "      <td>2</td>\n",
       "      <td>1</td>\n",
       "      <td>0.0</td>\n",
       "      <td>...</td>\n",
       "      <td>0</td>\n",
       "      <td>0</td>\n",
       "      <td>0</td>\n",
       "      <td>0</td>\n",
       "      <td>1</td>\n",
       "      <td>41</td>\n",
       "      <td>10</td>\n",
       "      <td>5</td>\n",
       "      <td>2023</td>\n",
       "      <td>45</td>\n",
       "    </tr>\n",
       "    <tr>\n",
       "      <th>1</th>\n",
       "      <td>2</td>\n",
       "      <td>2</td>\n",
       "      <td>2961</td>\n",
       "      <td>347102</td>\n",
       "      <td>0.02</td>\n",
       "      <td>52</td>\n",
       "      <td>11</td>\n",
       "      <td>20</td>\n",
       "      <td>3</td>\n",
       "      <td>0.0</td>\n",
       "      <td>...</td>\n",
       "      <td>0</td>\n",
       "      <td>0</td>\n",
       "      <td>0</td>\n",
       "      <td>0</td>\n",
       "      <td>0</td>\n",
       "      <td>76</td>\n",
       "      <td>20</td>\n",
       "      <td>5</td>\n",
       "      <td>2023</td>\n",
       "      <td>17</td>\n",
       "    </tr>\n",
       "  </tbody>\n",
       "</table>\n",
       "<p>2 rows × 27 columns</p>\n",
       "</div>"
      ],
      "text/plain": [
       "   Content Type  Sent by  Impressions  Potential Reach  \\\n",
       "0             1       11          445           345718   \n",
       "1             2        2         2961           347102   \n",
       "\n",
       "   Engagement Rate (per Impression)  Engagements  Likes  Comments  Shares  \\\n",
       "0                              0.04           16      4         2       1   \n",
       "1                              0.02           52     11        20       3   \n",
       "\n",
       "   Click-Through Rate  ...  Other Engagements  Follows from Post  \\\n",
       "0                 0.0  ...                  0                  0   \n",
       "1                 0.0  ...                  0                  0   \n",
       "\n",
       "   Unfollows from Post  Video Views  Media Views  Tags  PostHour  PostMonth  \\\n",
       "0                    0            0            1    41        10          5   \n",
       "1                    0            0            0    76        20          5   \n",
       "\n",
       "   PostYear  num_post_words  \n",
       "0      2023              45  \n",
       "1      2023              17  \n",
       "\n",
       "[2 rows x 27 columns]"
      ]
     },
     "execution_count": 16,
     "metadata": {},
     "output_type": "execute_result"
    }
   ],
   "source": [
    "processed_X.head(2)"
   ]
  },
  {
   "cell_type": "markdown",
   "metadata": {},
   "source": [
    "Model Selection"
   ]
  },
  {
   "cell_type": "code",
   "execution_count": 26,
   "metadata": {},
   "outputs": [],
   "source": [
    "from sklearn.model_selection import train_test_split,KFold\n",
    "from sklearn.feature_selection import SelectKBest,f_classif,mutual_info_regression\n",
    "from sklearn.linear_model import LogisticRegression\n",
    "from sklearn.ensemble import RandomForestClassifier,GradientBoostingClassifier\n",
    "from sklearn.tree import DecisionTreeClassifier\n",
    "from xgboost import XGBClassifier\n",
    "import lightgbm as lgb\n",
    "from sklearn.metrics import accuracy_score"
   ]
  },
  {
   "cell_type": "code",
   "execution_count": 18,
   "metadata": {},
   "outputs": [],
   "source": [
    "X_train,X_test,y_train,y_test = train_test_split(processed_X,y,test_size=0.2,random_state=42)"
   ]
  },
  {
   "cell_type": "code",
   "execution_count": 21,
   "metadata": {},
   "outputs": [],
   "source": [
    "k = 20\n",
    "selector = SelectKBest(score_func=f_classif,k=k)\n",
    "X_selected = selector.fit_transform(X_train,y_train)\n",
    "X_test_selected = selector.transform(X_test)"
   ]
  },
  {
   "cell_type": "code",
   "execution_count": 22,
   "metadata": {},
   "outputs": [
    {
     "data": {
      "image/png": "[encoded data removed]",
      "text/plain": [
       "<Figure size 1200x500 with 1 Axes>"
      ]
     },
     "metadata": {},
     "output_type": "display_data"
    }
   ],
   "source": [
    "models = {\"Logistics\":LogisticRegression(),\n",
    "          \"Random Forest\":RandomForestClassifier(random_state=42),\n",
    "          \"Decision Tree\":DecisionTreeClassifier(random_state=42),\n",
    "          \"Gradient\":GradientBoostingClassifier(random_state=42),\n",
    "          \"XGBR\":XGBClassifier(random_state=42)\n",
    "}\n",
    "\n",
    "accuracy_values= []\n",
    "\n",
    "for name, model in models.items():\n",
    "     model.fit(X_selected,y_train)\n",
    "     preds = model.predict(X_test_selected)\n",
    "     accuracy = accuracy_score(y_test,preds)\n",
    "     accuracy_values.append(accuracy)\n",
    "\n",
    "plt.figure(figsize=(12,5))\n",
    "plt.subplot(1,2,1)\n",
    "\n",
    "sns.barplot(x= list(models.keys()), y = accuracy_values, palette = \"magma\")\n",
    "plt.title(\"Accuracy values of models\")\n",
    "plt.xticks(rotation=45)\n",
    "plt.show()"
   ]
  },
  {
   "cell_type": "markdown",
   "metadata": {},
   "source": [
    "Model Evaluation"
   ]
  },
  {
   "cell_type": "code",
   "execution_count": 28,
   "metadata": {},
   "outputs": [
    {
     "name": "stdout",
     "output_type": "stream",
     "text": [
      "Accuracy of RandomForestClassifier is 0.9988\n"
     ]
    }
   ],
   "source": [
    "models = [\n",
    "    RandomForestClassifier()\n",
    "]\n",
    "\n",
    "for model in models:\n",
    "    model.fit(X_selected, y_train)\n",
    "    y_pred = model.predict(X_test_selected)\n",
    "    accuracy = accuracy_score(y_test, y_pred)\n",
    "\n",
    "    # Print the accuracy score of the model\n",
    "    print(f\"Accuracy of {model.__class__.__name__} is {accuracy:.4f}\")"
   ]
  }
 ],
 "metadata": {
  "kernelspec": {
   "display_name": "Python 3",
   "language": "python",
   "name": "python3"
  },
  "language_info": {
   "codemirror_mode": {
    "name": "ipython",
    "version": 3
   },
   "file_extension": ".py",
   "mimetype": "text/x-python",
   "name": "python",
   "nbconvert_exporter": "python",
   "pygments_lexer": "ipython3",
   "version": "3.11.4"
  },
  "orig_nbformat": 4
 },
 "nbformat": 4,
 "nbformat_minor": 2
}
