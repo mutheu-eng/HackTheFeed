{
 "cells": [
  {
   "cell_type": "markdown",
   "metadata": {},
   "source": [
    "Predictive analytics is a powerful approach for extracting insights from data and guiding data-informed decision-making. In this notebook, I delve into predictive analysis using a Twitter dataset as the foundation. My primary focus is on predicting \"Engagements,\" a critical metric in the realm of social media. Engagements encompass various interactions with content, such as likes, shares, reactions, and comments. These interactions signify how many individuals have not only viewed but actively engaged with the content. I leverage the carefully selected features retained throughout my analysis to achieve these predictions."
   ]
  },
  {
   "cell_type": "code",
   "execution_count": 1,
   "metadata": {},
   "outputs": [],
   "source": [
    "import pandas as pd\n",
    "import numpy as np\n",
    "import seaborn as sns\n",
    "import matplotlib.pyplot as plt\n",
    "import warnings\n",
    "warnings.filterwarnings(\"ignore\")"
   ]
  },
  {
   "cell_type": "code",
   "execution_count": 2,
   "metadata": {},
   "outputs": [],
   "source": [
    "path = \"C:/Users/user/Downloads/DiceyTechHack\"\n",
    "data = pd.read_csv(path +\"/TwitterData.csv\")"
   ]
  },
  {
   "cell_type": "code",
   "execution_count": 3,
   "metadata": {},
   "outputs": [
    {
     "data": {
      "text/html": [
       "<div>\n",
       "<style scoped>\n",
       "    .dataframe tbody tr th:only-of-type {\n",
       "        vertical-align: middle;\n",
       "    }\n",
       "\n",
       "    .dataframe tbody tr th {\n",
       "        vertical-align: top;\n",
       "    }\n",
       "\n",
       "    .dataframe thead th {\n",
       "        text-align: right;\n",
       "    }\n",
       "</style>\n",
       "<table border=\"1\" class=\"dataframe\">\n",
       "  <thead>\n",
       "    <tr style=\"text-align: right;\">\n",
       "      <th></th>\n",
       "      <th>Date</th>\n",
       "      <th>Content Type</th>\n",
       "      <th>Sent by</th>\n",
       "      <th>Post</th>\n",
       "      <th>Impressions</th>\n",
       "      <th>Potential Reach</th>\n",
       "      <th>Engagement Rate (per Impression)</th>\n",
       "      <th>Engagements</th>\n",
       "      <th>Likes</th>\n",
       "      <th>Comments</th>\n",
       "      <th>...</th>\n",
       "      <th>Post Media Clicks</th>\n",
       "      <th>Post Hashtag Clicks</th>\n",
       "      <th>Post Detail Expand Clicks</th>\n",
       "      <th>Profile Clicks</th>\n",
       "      <th>Other Engagements</th>\n",
       "      <th>Follows from Post</th>\n",
       "      <th>Unfollows from Post</th>\n",
       "      <th>Video Views</th>\n",
       "      <th>Media Views</th>\n",
       "      <th>Tags</th>\n",
       "    </tr>\n",
       "  </thead>\n",
       "  <tbody>\n",
       "    <tr>\n",
       "      <th>0</th>\n",
       "      <td>7/13/2023 10:57</td>\n",
       "      <td>Photo</td>\n",
       "      <td>Sophia Amuka</td>\n",
       "      <td>Your money should not be a gamble. Before you ...</td>\n",
       "      <td>445</td>\n",
       "      <td>345718</td>\n",
       "      <td>0.04</td>\n",
       "      <td>16</td>\n",
       "      <td>4</td>\n",
       "      <td>2</td>\n",
       "      <td>...</td>\n",
       "      <td>1</td>\n",
       "      <td>0</td>\n",
       "      <td>7</td>\n",
       "      <td>1</td>\n",
       "      <td>0</td>\n",
       "      <td>0</td>\n",
       "      <td>0</td>\n",
       "      <td>0</td>\n",
       "      <td>1</td>\n",
       "      <td>CIB Posts</td>\n",
       "    </tr>\n",
       "    <tr>\n",
       "      <th>1</th>\n",
       "      <td>7/12/2023 20:03</td>\n",
       "      <td>Text</td>\n",
       "      <td>Blessing Ubah</td>\n",
       "      <td>What skill (s) do you have, that no one ever t...</td>\n",
       "      <td>2961</td>\n",
       "      <td>347102</td>\n",
       "      <td>0.02</td>\n",
       "      <td>52</td>\n",
       "      <td>11</td>\n",
       "      <td>20</td>\n",
       "      <td>...</td>\n",
       "      <td>0</td>\n",
       "      <td>1</td>\n",
       "      <td>12</td>\n",
       "      <td>5</td>\n",
       "      <td>0</td>\n",
       "      <td>0</td>\n",
       "      <td>0</td>\n",
       "      <td>0</td>\n",
       "      <td>0</td>\n",
       "      <td>Other</td>\n",
       "    </tr>\n",
       "  </tbody>\n",
       "</table>\n",
       "<p>2 rows × 25 columns</p>\n",
       "</div>"
      ],
      "text/plain": [
       "              Date Content Type        Sent by  \\\n",
       "0  7/13/2023 10:57        Photo   Sophia Amuka   \n",
       "1  7/12/2023 20:03         Text  Blessing Ubah   \n",
       "\n",
       "                                                Post  Impressions  \\\n",
       "0  Your money should not be a gamble. Before you ...          445   \n",
       "1  What skill (s) do you have, that no one ever t...         2961   \n",
       "\n",
       "   Potential Reach  Engagement Rate (per Impression)  Engagements  Likes  \\\n",
       "0           345718                              0.04           16      4   \n",
       "1           347102                              0.02           52     11   \n",
       "\n",
       "   Comments  ...  Post Media Clicks  Post Hashtag Clicks  \\\n",
       "0         2  ...                  1                    0   \n",
       "1        20  ...                  0                    1   \n",
       "\n",
       "   Post Detail Expand Clicks  Profile Clicks  Other Engagements  \\\n",
       "0                          7               1                  0   \n",
       "1                         12               5                  0   \n",
       "\n",
       "   Follows from Post  Unfollows from Post  Video Views  Media Views       Tags  \n",
       "0                  0                    0            0            1  CIB Posts  \n",
       "1                  0                    0            0            0      Other  \n",
       "\n",
       "[2 rows x 25 columns]"
      ]
     },
     "execution_count": 3,
     "metadata": {},
     "output_type": "execute_result"
    }
   ],
   "source": [
    "data.head(2)"
   ]
  },
  {
   "cell_type": "code",
   "execution_count": 5,
   "metadata": {},
   "outputs": [],
   "source": [
    "data[\"Date\"] = pd.to_datetime(data[\"Date\"])\n",
    "data[\"PostHour\"] = data[\"Date\"].dt.hour\n",
    "data[\"PostMonth\"] = data[\"Date\"].dt.month_name()\n",
    "data[\"PostYear\"] = data[\"Date\"].dt.year\n",
    "data[\"num_post_words\"] = data[\"Post\"].str.len()"
   ]
  },
  {
   "cell_type": "code",
   "execution_count": 6,
   "metadata": {},
   "outputs": [
    {
     "data": {
      "text/plain": [
       "Date                                0\n",
       "Content Type                        0\n",
       "Sent by                             0\n",
       "Post                                0\n",
       "Impressions                         0\n",
       "Potential Reach                     0\n",
       "Engagement Rate (per Impression)    0\n",
       "Engagements                         0\n",
       "Likes                               0\n",
       "Comments                            0\n",
       "Shares                              0\n",
       "Click-Through Rate                  0\n",
       "Post Link Clicks                    0\n",
       "Other Post Clicks                   0\n",
       "Post Clicks (All)                   0\n",
       "Post Media Clicks                   0\n",
       "Post Hashtag Clicks                 0\n",
       "Post Detail Expand Clicks           0\n",
       "Profile Clicks                      0\n",
       "Other Engagements                   0\n",
       "Follows from Post                   0\n",
       "Unfollows from Post                 0\n",
       "Video Views                         0\n",
       "Media Views                         0\n",
       "Tags                                0\n",
       "PostHour                            0\n",
       "PostMonth                           0\n",
       "PostYear                            0\n",
       "num_post_words                      0\n",
       "dtype: int64"
      ]
     },
     "execution_count": 6,
     "metadata": {},
     "output_type": "execute_result"
    }
   ],
   "source": [
    "data.isnull().sum()"
   ]
  },
  {
   "cell_type": "code",
   "execution_count": 7,
   "metadata": {},
   "outputs": [],
   "source": [
    "data.drop(\"Post\", axis=1, inplace=True)\n",
    "data.drop(\"Date\", axis=1, inplace=True)"
   ]
  },
  {
   "cell_type": "code",
   "execution_count": 8,
   "metadata": {},
   "outputs": [
    {
     "name": "stdout",
     "output_type": "stream",
     "text": [
      "There are 23 numeric and 4 categorical columns in train data\n"
     ]
    }
   ],
   "source": [
    "numeric_data = data.select_dtypes(include=[np.number])\n",
    "cat_data = data.select_dtypes(exclude=[np.number])\n",
    "print (\"There are {} numeric and {} categorical columns in train data\".format(numeric_data.shape[1],cat_data.shape[1]))"
   ]
  },
  {
   "cell_type": "code",
   "execution_count": 9,
   "metadata": {},
   "outputs": [
    {
     "name": "stdout",
     "output_type": "stream",
     "text": [
      "Engagements                         1.000000\n",
      "Shares                              0.794180\n",
      "Post Clicks (All)                   0.788661\n",
      "Other Post Clicks                   0.783188\n",
      "Post Detail Expand Clicks           0.722001\n",
      "Profile Clicks                      0.690390\n",
      "Likes                               0.685341\n",
      "Post Media Clicks                   0.663444\n",
      "Engagement Rate (per Impression)    0.620985\n",
      "Impressions                         0.620083\n",
      "Media Views                         0.558331\n",
      "Comments                            0.511319\n",
      "Follows from Post                   0.439406\n",
      "Post Hashtag Clicks                 0.299797\n",
      "Potential Reach                     0.268379\n",
      "Post Link Clicks                    0.223236\n",
      "Other Engagements                   0.116877\n",
      "Video Views                         0.101811\n",
      "PostHour                            0.052568\n",
      "Click-Through Rate                  0.048812\n",
      "PostYear                            0.028252\n",
      "num_post_words                      0.025635\n",
      "Unfollows from Post                 0.018940\n",
      "Name: Engagements, dtype: float64\n"
     ]
    }
   ],
   "source": [
    "corr = numeric_data.corr()\n",
    "print(corr[\"Engagements\"].sort_values(ascending = False))"
   ]
  },
  {
   "cell_type": "code",
   "execution_count": 10,
   "metadata": {},
   "outputs": [],
   "source": [
    "X = data.drop([\"Engagements\"],axis=1)\n",
    "y = data[\"Engagements\"]"
   ]
  },
  {
   "cell_type": "code",
   "execution_count": 11,
   "metadata": {},
   "outputs": [],
   "source": [
    "from sklearn.preprocessing import LabelEncoder"
   ]
  },
  {
   "cell_type": "code",
   "execution_count": 12,
   "metadata": {},
   "outputs": [],
   "source": [
    "le = LabelEncoder()\n",
    "\n",
    "def processing_data(dataa):\n",
    "     processed_data = data.copy()\n",
    "\n",
    "     categ = [\"Content Type\",\n",
    "              \"Sent by\",\n",
    "              \"Tags\",\n",
    "              \"PostMonth\"]\n",
    "    \n",
    "     for col in categ:\n",
    "        processed_data[col] = le.fit_transform(processed_data[col])\n",
    "\n",
    "     return pd.DataFrame(processed_data, columns = processed_data.columns) "
   ]
  },
  {
   "cell_type": "code",
   "execution_count": 13,
   "metadata": {},
   "outputs": [],
   "source": [
    "processed_X = processing_data(X)"
   ]
  },
  {
   "cell_type": "code",
   "execution_count": 14,
   "metadata": {},
   "outputs": [
    {
     "data": {
      "text/plain": [
       "(8529, 27)"
      ]
     },
     "execution_count": 14,
     "metadata": {},
     "output_type": "execute_result"
    }
   ],
   "source": [
    "processed_X.shape"
   ]
  },
  {
   "cell_type": "code",
   "execution_count": 15,
   "metadata": {},
   "outputs": [
    {
     "data": {
      "text/html": [
       "<div>\n",
       "<style scoped>\n",
       "    .dataframe tbody tr th:only-of-type {\n",
       "        vertical-align: middle;\n",
       "    }\n",
       "\n",
       "    .dataframe tbody tr th {\n",
       "        vertical-align: top;\n",
       "    }\n",
       "\n",
       "    .dataframe thead th {\n",
       "        text-align: right;\n",
       "    }\n",
       "</style>\n",
       "<table border=\"1\" class=\"dataframe\">\n",
       "  <thead>\n",
       "    <tr style=\"text-align: right;\">\n",
       "      <th></th>\n",
       "      <th>Content Type</th>\n",
       "      <th>Sent by</th>\n",
       "      <th>Impressions</th>\n",
       "      <th>Potential Reach</th>\n",
       "      <th>Engagement Rate (per Impression)</th>\n",
       "      <th>Engagements</th>\n",
       "      <th>Likes</th>\n",
       "      <th>Comments</th>\n",
       "      <th>Shares</th>\n",
       "      <th>Click-Through Rate</th>\n",
       "      <th>...</th>\n",
       "      <th>Other Engagements</th>\n",
       "      <th>Follows from Post</th>\n",
       "      <th>Unfollows from Post</th>\n",
       "      <th>Video Views</th>\n",
       "      <th>Media Views</th>\n",
       "      <th>Tags</th>\n",
       "      <th>PostHour</th>\n",
       "      <th>PostMonth</th>\n",
       "      <th>PostYear</th>\n",
       "      <th>num_post_words</th>\n",
       "    </tr>\n",
       "  </thead>\n",
       "  <tbody>\n",
       "    <tr>\n",
       "      <th>0</th>\n",
       "      <td>1</td>\n",
       "      <td>11</td>\n",
       "      <td>445</td>\n",
       "      <td>345718</td>\n",
       "      <td>0.04</td>\n",
       "      <td>16</td>\n",
       "      <td>4</td>\n",
       "      <td>2</td>\n",
       "      <td>1</td>\n",
       "      <td>0.0</td>\n",
       "      <td>...</td>\n",
       "      <td>0</td>\n",
       "      <td>0</td>\n",
       "      <td>0</td>\n",
       "      <td>0</td>\n",
       "      <td>1</td>\n",
       "      <td>41</td>\n",
       "      <td>10</td>\n",
       "      <td>5</td>\n",
       "      <td>2023</td>\n",
       "      <td>299</td>\n",
       "    </tr>\n",
       "    <tr>\n",
       "      <th>1</th>\n",
       "      <td>2</td>\n",
       "      <td>2</td>\n",
       "      <td>2961</td>\n",
       "      <td>347102</td>\n",
       "      <td>0.02</td>\n",
       "      <td>52</td>\n",
       "      <td>11</td>\n",
       "      <td>20</td>\n",
       "      <td>3</td>\n",
       "      <td>0.0</td>\n",
       "      <td>...</td>\n",
       "      <td>0</td>\n",
       "      <td>0</td>\n",
       "      <td>0</td>\n",
       "      <td>0</td>\n",
       "      <td>0</td>\n",
       "      <td>76</td>\n",
       "      <td>20</td>\n",
       "      <td>5</td>\n",
       "      <td>2023</td>\n",
       "      <td>89</td>\n",
       "    </tr>\n",
       "  </tbody>\n",
       "</table>\n",
       "<p>2 rows × 27 columns</p>\n",
       "</div>"
      ],
      "text/plain": [
       "   Content Type  Sent by  Impressions  Potential Reach  \\\n",
       "0             1       11          445           345718   \n",
       "1             2        2         2961           347102   \n",
       "\n",
       "   Engagement Rate (per Impression)  Engagements  Likes  Comments  Shares  \\\n",
       "0                              0.04           16      4         2       1   \n",
       "1                              0.02           52     11        20       3   \n",
       "\n",
       "   Click-Through Rate  ...  Other Engagements  Follows from Post  \\\n",
       "0                 0.0  ...                  0                  0   \n",
       "1                 0.0  ...                  0                  0   \n",
       "\n",
       "   Unfollows from Post  Video Views  Media Views  Tags  PostHour  PostMonth  \\\n",
       "0                    0            0            1    41        10          5   \n",
       "1                    0            0            0    76        20          5   \n",
       "\n",
       "   PostYear  num_post_words  \n",
       "0      2023             299  \n",
       "1      2023              89  \n",
       "\n",
       "[2 rows x 27 columns]"
      ]
     },
     "execution_count": 15,
     "metadata": {},
     "output_type": "execute_result"
    }
   ],
   "source": [
    "processed_X.head(2)"
   ]
  },
  {
   "cell_type": "code",
   "execution_count": 16,
   "metadata": {},
   "outputs": [],
   "source": [
    "from sklearn.model_selection import train_test_split\n",
    "from sklearn.feature_selection import SelectKBest,f_regression,mutual_info_regression,RFE\n",
    "from sklearn.linear_model import LinearRegression,Lasso\n",
    "from sklearn.ensemble import RandomForestRegressor,GradientBoostingRegressor\n",
    "from sklearn.tree import DecisionTreeRegressor\n",
    "from xgboost import XGBRegressor\n",
    "import lightgbm as lgb\n",
    "from sklearn.metrics import mean_absolute_error"
   ]
  },
  {
   "cell_type": "code",
   "execution_count": 17,
   "metadata": {},
   "outputs": [],
   "source": [
    "X_train,X_test,y_train,y_test = train_test_split(processed_X,y,test_size=0.2,random_state=42)"
   ]
  },
  {
   "cell_type": "code",
   "execution_count": 18,
   "metadata": {},
   "outputs": [
    {
     "data": {
      "image/png": "[encoded data removed]",
      "text/plain": [
       "<Figure size 1200x600 with 1 Axes>"
      ]
     },
     "metadata": {},
     "output_type": "display_data"
    }
   ],
   "source": [
    "models = {\n",
    "          \"Random Forest\":RandomForestRegressor(random_state=42),\n",
    "          \"Decision Tree\":DecisionTreeRegressor(random_state=42),\n",
    "          \"Gradient\":GradientBoostingRegressor(random_state=42),\n",
    "          \"XGBR\":XGBRegressor(random_state=42)\n",
    "          } \n",
    "\n",
    "methods = {\n",
    "    'SelectKBest': SelectKBest(f_regression, k=25),\n",
    "    'Mutual Information': SelectKBest(mutual_info_regression, k=25)\n",
    "}\n",
    "\n",
    "results = {}\n",
    "\n",
    "for model_name, model in models.items():\n",
    "    for method_name, method in methods.items():\n",
    "        X_selected = method.fit_transform(X_train, y_train)\n",
    "        X_test_selected = method.transform(X_test)\n",
    "        \n",
    "        model.fit(X_selected, y_train)\n",
    "        y_pred = model.predict(X_test_selected)\n",
    "        \n",
    "        mae = mean_absolute_error(y_test, y_pred)\n",
    "        results[f\"{model_name} + {method_name}\"] = mae\n",
    "\n",
    "results_df = pd.DataFrame(list(results.items()), columns=['Combination', 'MAE'])\n",
    "\n",
    "plt.figure(figsize=(12, 6))\n",
    "plt.barh(results_df['Combination'], results_df['MAE'], color='skyblue')\n",
    "plt.xlabel('Mean Absolute Error (MAE)')\n",
    "plt.xticks(rotation=45)\n",
    "plt.title('Comparison of Model + Feature Selection Combinations')\n",
    "plt.gca().invert_yaxis()  # Invert the y-axis for better readability\n",
    "plt.show()"
   ]
  },
  {
   "cell_type": "code",
   "execution_count": 19,
   "metadata": {},
   "outputs": [],
   "source": [
    "k = 25\n",
    "selector = SelectKBest(score_func=mutual_info_regression,k=k)\n",
    "X_selected = selector.fit_transform(X_train,y_train)\n",
    "X_test_selected = selector.transform(X_test)"
   ]
  },
  {
   "cell_type": "code",
   "execution_count": 20,
   "metadata": {},
   "outputs": [
    {
     "data": {
      "image/png": "[encoded data removed]",
      "text/plain": [
       "<Figure size 1200x500 with 1 Axes>"
      ]
     },
     "metadata": {},
     "output_type": "display_data"
    }
   ],
   "source": [
    "models = {\n",
    "          \"Random Forest\":RandomForestRegressor(random_state=42),\n",
    "          \"Decision Tree\":DecisionTreeRegressor(random_state=42),\n",
    "          \"Gradient\":GradientBoostingRegressor(random_state=42),\n",
    "          \"XGBR\":XGBRegressor(random_state=42)\n",
    "          } \n",
    "mae_values= []\n",
    "\n",
    "for name, model in models.items():\n",
    "     model.fit(X_selected,y_train)\n",
    "     preds = model.predict(X_test_selected)\n",
    "     accuracy =mean_absolute_error(y_test,preds)\n",
    "     mae_values.append(accuracy)\n",
    "\n",
    "plt.figure(figsize=(12,5))\n",
    "plt.subplot(1,2,1)\n",
    "\n",
    "sns.barplot(x= list(models.keys()), y = mae_values, palette = \"magma\")\n",
    "plt.title(\"MAE values of models\")\n",
    "plt.xticks(rotation=45)\n",
    "plt.show()"
   ]
  },
  {
   "cell_type": "code",
   "execution_count": 24,
   "metadata": {},
   "outputs": [
    {
     "name": "stdout",
     "output_type": "stream",
     "text": [
      "MAE of Random Forest is 2.2019\n"
     ]
    }
   ],
   "source": [
    "gb = GradientBoostingRegressor()\n",
    "gb.fit(X_selected,y_train)\n",
    "y_pred = gb.predict(X_test_selected)\n",
    "mae = mean_absolute_error(y_test,y_pred)\n",
    "print(f\"MAE of Random Forest is {mae:.4f}\")"
   ]
  }
 ],
 "metadata": {
  "kernelspec": {
   "display_name": "Python 3",
   "language": "python",
   "name": "python3"
  },
  "language_info": {
   "codemirror_mode": {
    "name": "ipython",
    "version": 3
   },
   "file_extension": ".py",
   "mimetype": "text/x-python",
   "name": "python",
   "nbconvert_exporter": "python",
   "pygments_lexer": "ipython3",
   "version": "3.11.4"
  },
  "orig_nbformat": 4
 },
 "nbformat": 4,
 "nbformat_minor": 2
}
