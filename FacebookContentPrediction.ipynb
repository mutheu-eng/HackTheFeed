{
 "cells": [
  {
   "cell_type": "markdown",
   "metadata": {},
   "source": [
    "In this notebook, I employ predictive analytics, a potent method for gleaning insights from data and shaping data-driven decision-making. My exploration is grounded in the Facebook dataset, serving as the bedrock of this analysis. Central to my investigation is the anticipation of 'Content Type,' a pivotal metric within the social media domain. 'Content Type' encapsulates a multitude of engagement interactions, including likes, shares, reactions, comments, and saves. These interactions denote the extent to which individuals not only consumed but actively engaged with the content. To accomplish these predictions, I harness a meticulously curated set of features that persist throughout my analysis."
   ]
  },
  {
   "cell_type": "code",
   "execution_count": 1,
   "metadata": {},
   "outputs": [],
   "source": [
    "import pandas as pd\n",
    "import numpy as np\n",
    "import seaborn as sns\n",
    "import matplotlib.pyplot as plt\n",
    "import warnings\n",
    "warnings.filterwarnings(\"ignore\")"
   ]
  },
  {
   "cell_type": "code",
   "execution_count": 2,
   "metadata": {},
   "outputs": [],
   "source": [
    "path = \"C:/Users/user/Downloads/DiceyTechHack\"\n",
    "data = pd.read_csv(path +\"/TwitterData.csv\")"
   ]
  },
  {
   "cell_type": "code",
   "execution_count": 10,
   "metadata": {},
   "outputs": [
    {
     "data": {
      "text/html": [
       "<div>\n",
       "<style scoped>\n",
       "    .dataframe tbody tr th:only-of-type {\n",
       "        vertical-align: middle;\n",
       "    }\n",
       "\n",
       "    .dataframe tbody tr th {\n",
       "        vertical-align: top;\n",
       "    }\n",
       "\n",
       "    .dataframe thead th {\n",
       "        text-align: right;\n",
       "    }\n",
       "</style>\n",
       "<table border=\"1\" class=\"dataframe\">\n",
       "  <thead>\n",
       "    <tr style=\"text-align: right;\">\n",
       "      <th></th>\n",
       "      <th>Content Type</th>\n",
       "      <th>Sent by</th>\n",
       "      <th>Impressions</th>\n",
       "      <th>Potential Reach</th>\n",
       "      <th>Engagement Rate (per Impression)</th>\n",
       "      <th>Engagements</th>\n",
       "      <th>Likes</th>\n",
       "      <th>Comments</th>\n",
       "      <th>Shares</th>\n",
       "      <th>Click-Through Rate</th>\n",
       "      <th>...</th>\n",
       "      <th>Other Engagements</th>\n",
       "      <th>Follows from Post</th>\n",
       "      <th>Unfollows from Post</th>\n",
       "      <th>Video Views</th>\n",
       "      <th>Media Views</th>\n",
       "      <th>Tags</th>\n",
       "      <th>PostHour</th>\n",
       "      <th>PostMonth</th>\n",
       "      <th>PostYear</th>\n",
       "      <th>num_post_words</th>\n",
       "    </tr>\n",
       "  </thead>\n",
       "  <tbody>\n",
       "    <tr>\n",
       "      <th>0</th>\n",
       "      <td>1</td>\n",
       "      <td>Sophia Amuka</td>\n",
       "      <td>445</td>\n",
       "      <td>345718</td>\n",
       "      <td>0.04</td>\n",
       "      <td>16</td>\n",
       "      <td>4</td>\n",
       "      <td>2</td>\n",
       "      <td>1</td>\n",
       "      <td>0.00</td>\n",
       "      <td>...</td>\n",
       "      <td>0</td>\n",
       "      <td>0</td>\n",
       "      <td>0</td>\n",
       "      <td>0</td>\n",
       "      <td>1</td>\n",
       "      <td>CIB Posts</td>\n",
       "      <td>10</td>\n",
       "      <td>July</td>\n",
       "      <td>2023</td>\n",
       "      <td>299</td>\n",
       "    </tr>\n",
       "    <tr>\n",
       "      <th>1</th>\n",
       "      <td>2</td>\n",
       "      <td>Blessing Ubah</td>\n",
       "      <td>2961</td>\n",
       "      <td>347102</td>\n",
       "      <td>0.02</td>\n",
       "      <td>52</td>\n",
       "      <td>11</td>\n",
       "      <td>20</td>\n",
       "      <td>3</td>\n",
       "      <td>0.00</td>\n",
       "      <td>...</td>\n",
       "      <td>0</td>\n",
       "      <td>0</td>\n",
       "      <td>0</td>\n",
       "      <td>0</td>\n",
       "      <td>0</td>\n",
       "      <td>Other</td>\n",
       "      <td>20</td>\n",
       "      <td>July</td>\n",
       "      <td>2023</td>\n",
       "      <td>89</td>\n",
       "    </tr>\n",
       "    <tr>\n",
       "      <th>2</th>\n",
       "      <td>1</td>\n",
       "      <td>Blessing Ubah</td>\n",
       "      <td>850</td>\n",
       "      <td>347594</td>\n",
       "      <td>0.04</td>\n",
       "      <td>36</td>\n",
       "      <td>4</td>\n",
       "      <td>1</td>\n",
       "      <td>3</td>\n",
       "      <td>0.01</td>\n",
       "      <td>...</td>\n",
       "      <td>0</td>\n",
       "      <td>0</td>\n",
       "      <td>0</td>\n",
       "      <td>0</td>\n",
       "      <td>11</td>\n",
       "      <td>Weekly Wealth Posts</td>\n",
       "      <td>19</td>\n",
       "      <td>July</td>\n",
       "      <td>2023</td>\n",
       "      <td>215</td>\n",
       "    </tr>\n",
       "    <tr>\n",
       "      <th>3</th>\n",
       "      <td>1</td>\n",
       "      <td>Blessing Ubah</td>\n",
       "      <td>1499</td>\n",
       "      <td>349169</td>\n",
       "      <td>0.03</td>\n",
       "      <td>51</td>\n",
       "      <td>13</td>\n",
       "      <td>3</td>\n",
       "      <td>5</td>\n",
       "      <td>0.00</td>\n",
       "      <td>...</td>\n",
       "      <td>0</td>\n",
       "      <td>0</td>\n",
       "      <td>0</td>\n",
       "      <td>0</td>\n",
       "      <td>24</td>\n",
       "      <td>Other</td>\n",
       "      <td>18</td>\n",
       "      <td>July</td>\n",
       "      <td>2023</td>\n",
       "      <td>94</td>\n",
       "    </tr>\n",
       "    <tr>\n",
       "      <th>4</th>\n",
       "      <td>1</td>\n",
       "      <td>Sophia Amuka</td>\n",
       "      <td>1184</td>\n",
       "      <td>345653</td>\n",
       "      <td>0.02</td>\n",
       "      <td>18</td>\n",
       "      <td>7</td>\n",
       "      <td>3</td>\n",
       "      <td>1</td>\n",
       "      <td>0.00</td>\n",
       "      <td>...</td>\n",
       "      <td>0</td>\n",
       "      <td>0</td>\n",
       "      <td>0</td>\n",
       "      <td>0</td>\n",
       "      <td>3</td>\n",
       "      <td>Insurance Limited Posts, Weekly Wealth Posts</td>\n",
       "      <td>12</td>\n",
       "      <td>July</td>\n",
       "      <td>2023</td>\n",
       "      <td>198</td>\n",
       "    </tr>\n",
       "    <tr>\n",
       "      <th>5</th>\n",
       "      <td>1</td>\n",
       "      <td>Sophia Amuka</td>\n",
       "      <td>4598</td>\n",
       "      <td>345734</td>\n",
       "      <td>0.02</td>\n",
       "      <td>70</td>\n",
       "      <td>12</td>\n",
       "      <td>18</td>\n",
       "      <td>1</td>\n",
       "      <td>0.00</td>\n",
       "      <td>...</td>\n",
       "      <td>0</td>\n",
       "      <td>0</td>\n",
       "      <td>0</td>\n",
       "      <td>0</td>\n",
       "      <td>15</td>\n",
       "      <td>Other</td>\n",
       "      <td>11</td>\n",
       "      <td>July</td>\n",
       "      <td>2023</td>\n",
       "      <td>57</td>\n",
       "    </tr>\n",
       "  </tbody>\n",
       "</table>\n",
       "<p>6 rows × 27 columns</p>\n",
       "</div>"
      ],
      "text/plain": [
       "   Content Type        Sent by  Impressions  Potential Reach  \\\n",
       "0             1   Sophia Amuka          445           345718   \n",
       "1             2  Blessing Ubah         2961           347102   \n",
       "2             1  Blessing Ubah          850           347594   \n",
       "3             1  Blessing Ubah         1499           349169   \n",
       "4             1   Sophia Amuka         1184           345653   \n",
       "5             1   Sophia Amuka         4598           345734   \n",
       "\n",
       "   Engagement Rate (per Impression)  Engagements  Likes  Comments  Shares  \\\n",
       "0                              0.04           16      4         2       1   \n",
       "1                              0.02           52     11        20       3   \n",
       "2                              0.04           36      4         1       3   \n",
       "3                              0.03           51     13         3       5   \n",
       "4                              0.02           18      7         3       1   \n",
       "5                              0.02           70     12        18       1   \n",
       "\n",
       "   Click-Through Rate  ...  Other Engagements  Follows from Post  \\\n",
       "0                0.00  ...                  0                  0   \n",
       "1                0.00  ...                  0                  0   \n",
       "2                0.01  ...                  0                  0   \n",
       "3                0.00  ...                  0                  0   \n",
       "4                0.00  ...                  0                  0   \n",
       "5                0.00  ...                  0                  0   \n",
       "\n",
       "   Unfollows from Post  Video Views  Media Views  \\\n",
       "0                    0            0            1   \n",
       "1                    0            0            0   \n",
       "2                    0            0           11   \n",
       "3                    0            0           24   \n",
       "4                    0            0            3   \n",
       "5                    0            0           15   \n",
       "\n",
       "                                           Tags  PostHour  PostMonth  \\\n",
       "0                                     CIB Posts        10       July   \n",
       "1                                         Other        20       July   \n",
       "2                           Weekly Wealth Posts        19       July   \n",
       "3                                         Other        18       July   \n",
       "4  Insurance Limited Posts, Weekly Wealth Posts        12       July   \n",
       "5                                         Other        11       July   \n",
       "\n",
       "   PostYear  num_post_words  \n",
       "0      2023             299  \n",
       "1      2023              89  \n",
       "2      2023             215  \n",
       "3      2023              94  \n",
       "4      2023             198  \n",
       "5      2023              57  \n",
       "\n",
       "[6 rows x 27 columns]"
      ]
     },
     "execution_count": 10,
     "metadata": {},
     "output_type": "execute_result"
    }
   ],
   "source": [
    "data.head(6)"
   ]
  },
  {
   "cell_type": "code",
   "execution_count": 4,
   "metadata": {},
   "outputs": [],
   "source": [
    "data[\"Date\"] = pd.to_datetime(data[\"Date\"])\n",
    "data[\"PostHour\"] = data[\"Date\"].dt.hour\n",
    "data[\"PostMonth\"] = data[\"Date\"].dt.month_name()\n",
    "data[\"PostYear\"] = data[\"Date\"].dt.year\n",
    "data[\"num_post_words\"] = data[\"Post\"].str.len()"
   ]
  },
  {
   "cell_type": "code",
   "execution_count": 5,
   "metadata": {},
   "outputs": [
    {
     "data": {
      "text/plain": [
       "0"
      ]
     },
     "execution_count": 5,
     "metadata": {},
     "output_type": "execute_result"
    }
   ],
   "source": [
    "data[\"num_post_words\"].isnull().sum()"
   ]
  },
  {
   "cell_type": "code",
   "execution_count": 6,
   "metadata": {},
   "outputs": [],
   "source": [
    "data.drop(\"Post\", axis=1, inplace=True)\n",
    "data.drop(\"Date\", axis=1, inplace=True)"
   ]
  },
  {
   "cell_type": "code",
   "execution_count": 7,
   "metadata": {},
   "outputs": [
    {
     "name": "stdout",
     "output_type": "stream",
     "text": [
      "There are 23 numeric and 4 categorical columns in train data\n"
     ]
    }
   ],
   "source": [
    "numeric_data = data.select_dtypes(include=[np.number])\n",
    "cat_data = data.select_dtypes(exclude=[np.number])\n",
    "print (\"There are {} numeric and {} categorical columns in train data\".format(numeric_data.shape[1],cat_data.shape[1]))"
   ]
  },
  {
   "cell_type": "code",
   "execution_count": 8,
   "metadata": {},
   "outputs": [],
   "source": [
    "from sklearn.preprocessing import LabelEncoder\n",
    "le = LabelEncoder()\n",
    "data[\"Content Type\"] = le.fit_transform(data[\"Content Type\"])"
   ]
  },
  {
   "cell_type": "code",
   "execution_count": 9,
   "metadata": {},
   "outputs": [
    {
     "data": {
      "text/plain": [
       "1    6213\n",
       "2    1018\n",
       "3     883\n",
       "0     415\n",
       "Name: Content Type, dtype: int64"
      ]
     },
     "execution_count": 9,
     "metadata": {},
     "output_type": "execute_result"
    }
   ],
   "source": [
    "data[\"Content Type\"].value_counts()"
   ]
  },
  {
   "cell_type": "code",
   "execution_count": 9,
   "metadata": {},
   "outputs": [],
   "source": [
    "X = data.drop([\"Content Type\"],axis=1)\n",
    "y = data[\"Content Type\"]"
   ]
  },
  {
   "cell_type": "code",
   "execution_count": 10,
   "metadata": {},
   "outputs": [],
   "source": [
    "le = LabelEncoder()\n",
    "\n",
    "def processing_data(dataa):\n",
    "     processed_data = data.copy()\n",
    "\n",
    "     categ = [\"Sent by\",\n",
    "              \"Tags\",\n",
    "              \"PostMonth\"]\n",
    "    \n",
    "     for col in categ:\n",
    "        processed_data[col] = le.fit_transform(processed_data[col])\n",
    "\n",
    "     return pd.DataFrame(processed_data, columns = processed_data.columns) "
   ]
  },
  {
   "cell_type": "code",
   "execution_count": 11,
   "metadata": {},
   "outputs": [],
   "source": [
    "processed_X = processing_data(X) "
   ]
  },
  {
   "cell_type": "code",
   "execution_count": 12,
   "metadata": {},
   "outputs": [
    {
     "data": {
      "text/plain": [
       "(8529, 27)"
      ]
     },
     "execution_count": 12,
     "metadata": {},
     "output_type": "execute_result"
    }
   ],
   "source": [
    "processed_X.shape"
   ]
  },
  {
   "cell_type": "code",
   "execution_count": 13,
   "metadata": {},
   "outputs": [
    {
     "data": {
      "text/html": [
       "<div>\n",
       "<style scoped>\n",
       "    .dataframe tbody tr th:only-of-type {\n",
       "        vertical-align: middle;\n",
       "    }\n",
       "\n",
       "    .dataframe tbody tr th {\n",
       "        vertical-align: top;\n",
       "    }\n",
       "\n",
       "    .dataframe thead th {\n",
       "        text-align: right;\n",
       "    }\n",
       "</style>\n",
       "<table border=\"1\" class=\"dataframe\">\n",
       "  <thead>\n",
       "    <tr style=\"text-align: right;\">\n",
       "      <th></th>\n",
       "      <th>Content Type</th>\n",
       "      <th>Sent by</th>\n",
       "      <th>Impressions</th>\n",
       "      <th>Potential Reach</th>\n",
       "      <th>Engagement Rate (per Impression)</th>\n",
       "      <th>Engagements</th>\n",
       "      <th>Likes</th>\n",
       "      <th>Comments</th>\n",
       "      <th>Shares</th>\n",
       "      <th>Click-Through Rate</th>\n",
       "      <th>...</th>\n",
       "      <th>Other Engagements</th>\n",
       "      <th>Follows from Post</th>\n",
       "      <th>Unfollows from Post</th>\n",
       "      <th>Video Views</th>\n",
       "      <th>Media Views</th>\n",
       "      <th>Tags</th>\n",
       "      <th>PostHour</th>\n",
       "      <th>PostMonth</th>\n",
       "      <th>PostYear</th>\n",
       "      <th>num_post_words</th>\n",
       "    </tr>\n",
       "  </thead>\n",
       "  <tbody>\n",
       "    <tr>\n",
       "      <th>0</th>\n",
       "      <td>1</td>\n",
       "      <td>11</td>\n",
       "      <td>445</td>\n",
       "      <td>345718</td>\n",
       "      <td>0.04</td>\n",
       "      <td>16</td>\n",
       "      <td>4</td>\n",
       "      <td>2</td>\n",
       "      <td>1</td>\n",
       "      <td>0.0</td>\n",
       "      <td>...</td>\n",
       "      <td>0</td>\n",
       "      <td>0</td>\n",
       "      <td>0</td>\n",
       "      <td>0</td>\n",
       "      <td>1</td>\n",
       "      <td>41</td>\n",
       "      <td>10</td>\n",
       "      <td>5</td>\n",
       "      <td>2023</td>\n",
       "      <td>299</td>\n",
       "    </tr>\n",
       "    <tr>\n",
       "      <th>1</th>\n",
       "      <td>2</td>\n",
       "      <td>2</td>\n",
       "      <td>2961</td>\n",
       "      <td>347102</td>\n",
       "      <td>0.02</td>\n",
       "      <td>52</td>\n",
       "      <td>11</td>\n",
       "      <td>20</td>\n",
       "      <td>3</td>\n",
       "      <td>0.0</td>\n",
       "      <td>...</td>\n",
       "      <td>0</td>\n",
       "      <td>0</td>\n",
       "      <td>0</td>\n",
       "      <td>0</td>\n",
       "      <td>0</td>\n",
       "      <td>76</td>\n",
       "      <td>20</td>\n",
       "      <td>5</td>\n",
       "      <td>2023</td>\n",
       "      <td>89</td>\n",
       "    </tr>\n",
       "  </tbody>\n",
       "</table>\n",
       "<p>2 rows × 27 columns</p>\n",
       "</div>"
      ],
      "text/plain": [
       "   Content Type  Sent by  Impressions  Potential Reach  \\\n",
       "0             1       11          445           345718   \n",
       "1             2        2         2961           347102   \n",
       "\n",
       "   Engagement Rate (per Impression)  Engagements  Likes  Comments  Shares  \\\n",
       "0                              0.04           16      4         2       1   \n",
       "1                              0.02           52     11        20       3   \n",
       "\n",
       "   Click-Through Rate  ...  Other Engagements  Follows from Post  \\\n",
       "0                 0.0  ...                  0                  0   \n",
       "1                 0.0  ...                  0                  0   \n",
       "\n",
       "   Unfollows from Post  Video Views  Media Views  Tags  PostHour  PostMonth  \\\n",
       "0                    0            0            1    41        10          5   \n",
       "1                    0            0            0    76        20          5   \n",
       "\n",
       "   PostYear  num_post_words  \n",
       "0      2023             299  \n",
       "1      2023              89  \n",
       "\n",
       "[2 rows x 27 columns]"
      ]
     },
     "execution_count": 13,
     "metadata": {},
     "output_type": "execute_result"
    }
   ],
   "source": [
    "processed_X.head(2)"
   ]
  },
  {
   "cell_type": "code",
   "execution_count": 14,
   "metadata": {},
   "outputs": [],
   "source": [
    "from sklearn.model_selection import train_test_split,KFold\n",
    "from sklearn.feature_selection import SelectKBest,f_classif,mutual_info_regression\n",
    "from sklearn.linear_model import LogisticRegression\n",
    "from sklearn.ensemble import RandomForestClassifier,GradientBoostingClassifier\n",
    "from sklearn.tree import DecisionTreeClassifier\n",
    "from xgboost import XGBClassifier\n",
    "import lightgbm as lgb\n",
    "from sklearn.metrics import accuracy_score"
   ]
  },
  {
   "cell_type": "code",
   "execution_count": 15,
   "metadata": {},
   "outputs": [],
   "source": [
    "X_train,X_test,y_train,y_test = train_test_split(processed_X,y,test_size=0.2,random_state=42)"
   ]
  },
  {
   "cell_type": "code",
   "execution_count": 19,
   "metadata": {},
   "outputs": [],
   "source": [
    "k = 25\n",
    "selector = SelectKBest(score_func=f_classif,k=k)\n",
    "X_selected = selector.fit_transform(X_train,y_train)\n",
    "X_test_selected = selector.transform(X_test)"
   ]
  },
  {
   "cell_type": "code",
   "execution_count": 20,
   "metadata": {},
   "outputs": [
    {
     "data": {
      "image/png": "[encoded data removed]",
      "text/plain": [
       "<Figure size 1200x500 with 1 Axes>"
      ]
     },
     "metadata": {},
     "output_type": "display_data"
    }
   ],
   "source": [
    "models = {\"Logistics\":LogisticRegression(),\n",
    "          \"Random Forest\":RandomForestClassifier(random_state=42),\n",
    "          \"Decision Tree\":DecisionTreeClassifier(random_state=42),\n",
    "          \"Gradient\":GradientBoostingClassifier(random_state=42),\n",
    "          \"XGBR\":XGBClassifier(random_state=42)\n",
    "}\n",
    "\n",
    "accuracy_values= []\n",
    "\n",
    "for name, model in models.items():\n",
    "     model.fit(X_selected,y_train)\n",
    "     preds = model.predict(X_test_selected)\n",
    "     accuracy = accuracy_score(y_test,preds)\n",
    "     accuracy_values.append(accuracy)\n",
    "\n",
    "plt.figure(figsize=(12,5))\n",
    "plt.subplot(1,2,1)\n",
    "\n",
    "sns.barplot(x= list(models.keys()), y = accuracy_values, palette = \"magma\")\n",
    "plt.title(\"Accuracy values of models\")\n",
    "plt.xticks(rotation=45)\n",
    "plt.show()"
   ]
  },
  {
   "cell_type": "code",
   "execution_count": 21,
   "metadata": {},
   "outputs": [
    {
     "name": "stdout",
     "output_type": "stream",
     "text": [
      "Accuracy of RandomForestClassifier is 0.9982\n"
     ]
    }
   ],
   "source": [
    "models = [\n",
    "    RandomForestClassifier()\n",
    "]\n",
    "\n",
    "for model in models:\n",
    "    model.fit(X_selected, y_train)\n",
    "    y_pred = model.predict(X_test_selected)\n",
    "    accuracy = accuracy_score(y_test, y_pred)\n",
    "\n",
    "    # Print the accuracy score of the model\n",
    "    print(f\"Accuracy of {model.__class__.__name__} is {accuracy:.4f}\")"
   ]
  }
 ],
 "metadata": {
  "kernelspec": {
   "display_name": "Python 3",
   "language": "python",
   "name": "python3"
  },
  "language_info": {
   "codemirror_mode": {
    "name": "ipython",
    "version": 3
   },
   "file_extension": ".py",
   "mimetype": "text/x-python",
   "name": "python",
   "nbconvert_exporter": "python",
   "pygments_lexer": "ipython3",
   "version": "3.11.4"
  },
  "orig_nbformat": 4
 },
 "nbformat": 4,
 "nbformat_minor": 2
}
