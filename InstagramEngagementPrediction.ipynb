{
 "cells": [
  {
   "cell_type": "markdown",
   "metadata": {},
   "source": [
    "Predictive analytics is a powerful approach for extracting insights from data and guiding data-informed decision-making. In this notebook, I delve into predictive analysis using a Instagram dataset as the foundation. My primary focus is on predicting \"Engagements,\" a critical metric in the realm of social media. Engagements encompass various interactions with content, such as likes, shares, reactions, comments, and saves. These interactions signify how many individuals have not only viewed but actively engaged with the content. I leverage the carefully selected features retained throughout my analysis to achieve these predictions."
   ]
  },
  {
   "cell_type": "code",
   "execution_count": 1,
   "metadata": {},
   "outputs": [],
   "source": [
    "import pandas as pd\n",
    "import numpy as np\n",
    "import seaborn as sns\n",
    "import matplotlib.pyplot as plt\n",
    "import warnings\n",
    "warnings.filterwarnings(\"ignore\")"
   ]
  },
  {
   "cell_type": "code",
   "execution_count": 2,
   "metadata": {},
   "outputs": [],
   "source": [
    "path = \"C:/Users/user/Downloads/DiceyTechHack\"\n",
    "data = pd.read_csv(path +\"/InstagramData.csv\")"
   ]
  },
  {
   "cell_type": "code",
   "execution_count": 3,
   "metadata": {},
   "outputs": [
    {
     "data": {
      "text/html": [
       "<div>\n",
       "<style scoped>\n",
       "    .dataframe tbody tr th:only-of-type {\n",
       "        vertical-align: middle;\n",
       "    }\n",
       "\n",
       "    .dataframe tbody tr th {\n",
       "        vertical-align: top;\n",
       "    }\n",
       "\n",
       "    .dataframe thead th {\n",
       "        text-align: right;\n",
       "    }\n",
       "</style>\n",
       "<table border=\"1\" class=\"dataframe\">\n",
       "  <thead>\n",
       "    <tr style=\"text-align: right;\">\n",
       "      <th></th>\n",
       "      <th>Date</th>\n",
       "      <th>Content Type</th>\n",
       "      <th>Sent by</th>\n",
       "      <th>Post</th>\n",
       "      <th>Impressions</th>\n",
       "      <th>Reach</th>\n",
       "      <th>Engagement Rate (per Impression)</th>\n",
       "      <th>Engagement Rate (per Reach)</th>\n",
       "      <th>Engagements</th>\n",
       "      <th>Reactions</th>\n",
       "      <th>Comments</th>\n",
       "      <th>Saves</th>\n",
       "      <th>Video Views</th>\n",
       "      <th>Media Views</th>\n",
       "      <th>Organic Video Views</th>\n",
       "      <th>Tags</th>\n",
       "    </tr>\n",
       "  </thead>\n",
       "  <tbody>\n",
       "    <tr>\n",
       "      <th>0</th>\n",
       "      <td>1/30/2023 17:06</td>\n",
       "      <td>Carousel</td>\n",
       "      <td></td>\n",
       "      <td>The new Naira banknotes in circulation have se...</td>\n",
       "      <td>39681</td>\n",
       "      <td>32418</td>\n",
       "      <td>0.05</td>\n",
       "      <td>0.06</td>\n",
       "      <td>1942</td>\n",
       "      <td>1261</td>\n",
       "      <td>56</td>\n",
       "      <td>625</td>\n",
       "      <td>0</td>\n",
       "      <td>0</td>\n",
       "      <td>0</td>\n",
       "      <td>Other</td>\n",
       "    </tr>\n",
       "    <tr>\n",
       "      <th>1</th>\n",
       "      <td>4/15/2022 9:04</td>\n",
       "      <td>Photo</td>\n",
       "      <td>Blessing Ubah</td>\n",
       "      <td>We hope the faith that this #GoodFriday restor...</td>\n",
       "      <td>29186</td>\n",
       "      <td>25055</td>\n",
       "      <td>0.06</td>\n",
       "      <td>0.07</td>\n",
       "      <td>1763</td>\n",
       "      <td>709</td>\n",
       "      <td>1033</td>\n",
       "      <td>21</td>\n",
       "      <td>0</td>\n",
       "      <td>0</td>\n",
       "      <td>0</td>\n",
       "      <td>Other</td>\n",
       "    </tr>\n",
       "  </tbody>\n",
       "</table>\n",
       "</div>"
      ],
      "text/plain": [
       "              Date Content Type        Sent by  \\\n",
       "0  1/30/2023 17:06     Carousel                  \n",
       "1   4/15/2022 9:04        Photo  Blessing Ubah   \n",
       "\n",
       "                                                Post  Impressions  Reach  \\\n",
       "0  The new Naira banknotes in circulation have se...        39681  32418   \n",
       "1  We hope the faith that this #GoodFriday restor...        29186  25055   \n",
       "\n",
       "   Engagement Rate (per Impression)  Engagement Rate (per Reach)  Engagements  \\\n",
       "0                              0.05                         0.06         1942   \n",
       "1                              0.06                         0.07         1763   \n",
       "\n",
       "   Reactions  Comments  Saves  Video Views  Media Views  Organic Video Views  \\\n",
       "0       1261        56    625            0            0                    0   \n",
       "1        709      1033     21            0            0                    0   \n",
       "\n",
       "    Tags  \n",
       "0  Other  \n",
       "1  Other  "
      ]
     },
     "execution_count": 3,
     "metadata": {},
     "output_type": "execute_result"
    }
   ],
   "source": [
    "data.head(2)"
   ]
  },
  {
   "cell_type": "code",
   "execution_count": 4,
   "metadata": {},
   "outputs": [],
   "source": [
    "data[\"Date\"] = pd.to_datetime(data[\"Date\"])\n",
    "data[\"PostHour\"] = data[\"Date\"].dt.hour\n",
    "data[\"PostMonth\"] = data[\"Date\"].dt.month_name()\n",
    "data[\"PostYear\"] = data[\"Date\"].dt.year\n",
    "data[\"num_post_words\"] = data[\"Post\"].str.len()"
   ]
  },
  {
   "cell_type": "code",
   "execution_count": 6,
   "metadata": {},
   "outputs": [],
   "source": [
    "data[\"num_post_words\"].fillna(0,inplace=True)"
   ]
  },
  {
   "cell_type": "code",
   "execution_count": 7,
   "metadata": {},
   "outputs": [
    {
     "data": {
      "text/plain": [
       "Date                                 0\n",
       "Content Type                         0\n",
       "Sent by                              0\n",
       "Post                                11\n",
       "Impressions                          0\n",
       "Reach                                0\n",
       "Engagement Rate (per Impression)     0\n",
       "Engagement Rate (per Reach)          0\n",
       "Engagements                          0\n",
       "Reactions                            0\n",
       "Comments                             0\n",
       "Saves                                0\n",
       "Video Views                          0\n",
       "Media Views                          0\n",
       "Organic Video Views                  0\n",
       "Tags                                 0\n",
       "PostHour                             0\n",
       "PostMonth                            0\n",
       "PostYear                             0\n",
       "num_post_words                       0\n",
       "dtype: int64"
      ]
     },
     "execution_count": 7,
     "metadata": {},
     "output_type": "execute_result"
    }
   ],
   "source": [
    "data.isnull().sum()"
   ]
  },
  {
   "cell_type": "code",
   "execution_count": 8,
   "metadata": {},
   "outputs": [],
   "source": [
    "data.drop(\"Post\", axis=1, inplace=True)\n",
    "data.drop(\"Date\", axis=1, inplace=True)"
   ]
  },
  {
   "cell_type": "code",
   "execution_count": 9,
   "metadata": {},
   "outputs": [
    {
     "name": "stdout",
     "output_type": "stream",
     "text": [
      "There are 14 numeric and 4 categorical columns in train data\n"
     ]
    }
   ],
   "source": [
    "numeric_data = data.select_dtypes(include=[np.number])\n",
    "cat_data = data.select_dtypes(exclude=[np.number])\n",
    "print (\"There are {} numeric and {} categorical columns in train data\".format(numeric_data.shape[1],cat_data.shape[1]))"
   ]
  },
  {
   "cell_type": "code",
   "execution_count": 10,
   "metadata": {},
   "outputs": [
    {
     "name": "stdout",
     "output_type": "stream",
     "text": [
      "Engagements                         1.000000\n",
      "Reactions                           0.999451\n",
      "Engagement Rate (per Impression)    0.290990\n",
      "Video Views                         0.254964\n",
      "Organic Video Views                 0.254964\n",
      "Comments                            0.059364\n",
      "Engagement Rate (per Reach)         0.058519\n",
      "Impressions                         0.053875\n",
      "Reach                               0.041740\n",
      "PostYear                            0.040995\n",
      "Saves                               0.037312\n",
      "PostHour                           -0.009537\n",
      "num_post_words                     -0.019369\n",
      "Media Views                              NaN\n",
      "Name: Engagements, dtype: float64\n"
     ]
    }
   ],
   "source": [
    "corr = numeric_data.corr()\n",
    "print(corr[\"Engagements\"].sort_values(ascending = False))"
   ]
  },
  {
   "cell_type": "code",
   "execution_count": 11,
   "metadata": {},
   "outputs": [],
   "source": [
    "X = data.drop([\"Engagements\"],axis=1)\n",
    "y = data[\"Engagements\"]"
   ]
  },
  {
   "cell_type": "code",
   "execution_count": 12,
   "metadata": {},
   "outputs": [],
   "source": [
    "from sklearn.preprocessing import LabelEncoder"
   ]
  },
  {
   "cell_type": "code",
   "execution_count": 13,
   "metadata": {},
   "outputs": [],
   "source": [
    "le = LabelEncoder()\n",
    "\n",
    "def processing_data(dataa):\n",
    "     processed_data = data.copy()\n",
    "\n",
    "     categ = [\"Content Type\",\n",
    "              \"Sent by\",\n",
    "              \"Tags\",\n",
    "              \"PostMonth\"]\n",
    "    \n",
    "     for col in categ:\n",
    "        processed_data[col] = le.fit_transform(processed_data[col])\n",
    "\n",
    "     return pd.DataFrame(processed_data, columns = processed_data.columns) "
   ]
  },
  {
   "cell_type": "code",
   "execution_count": 14,
   "metadata": {},
   "outputs": [],
   "source": [
    "processed_X = processing_data(X)"
   ]
  },
  {
   "cell_type": "code",
   "execution_count": 15,
   "metadata": {},
   "outputs": [
    {
     "data": {
      "text/plain": [
       "(10000, 18)"
      ]
     },
     "execution_count": 15,
     "metadata": {},
     "output_type": "execute_result"
    }
   ],
   "source": [
    "processed_X.shape"
   ]
  },
  {
   "cell_type": "code",
   "execution_count": 16,
   "metadata": {},
   "outputs": [
    {
     "data": {
      "text/html": [
       "<div>\n",
       "<style scoped>\n",
       "    .dataframe tbody tr th:only-of-type {\n",
       "        vertical-align: middle;\n",
       "    }\n",
       "\n",
       "    .dataframe tbody tr th {\n",
       "        vertical-align: top;\n",
       "    }\n",
       "\n",
       "    .dataframe thead th {\n",
       "        text-align: right;\n",
       "    }\n",
       "</style>\n",
       "<table border=\"1\" class=\"dataframe\">\n",
       "  <thead>\n",
       "    <tr style=\"text-align: right;\">\n",
       "      <th></th>\n",
       "      <th>Content Type</th>\n",
       "      <th>Sent by</th>\n",
       "      <th>Impressions</th>\n",
       "      <th>Reach</th>\n",
       "      <th>Engagement Rate (per Impression)</th>\n",
       "      <th>Engagement Rate (per Reach)</th>\n",
       "      <th>Engagements</th>\n",
       "      <th>Reactions</th>\n",
       "      <th>Comments</th>\n",
       "      <th>Saves</th>\n",
       "      <th>Video Views</th>\n",
       "      <th>Media Views</th>\n",
       "      <th>Organic Video Views</th>\n",
       "      <th>Tags</th>\n",
       "      <th>PostHour</th>\n",
       "      <th>PostMonth</th>\n",
       "      <th>PostYear</th>\n",
       "      <th>num_post_words</th>\n",
       "    </tr>\n",
       "  </thead>\n",
       "  <tbody>\n",
       "    <tr>\n",
       "      <th>0</th>\n",
       "      <td>0</td>\n",
       "      <td>0</td>\n",
       "      <td>39681</td>\n",
       "      <td>32418</td>\n",
       "      <td>0.05</td>\n",
       "      <td>0.06</td>\n",
       "      <td>1942</td>\n",
       "      <td>1261</td>\n",
       "      <td>56</td>\n",
       "      <td>625</td>\n",
       "      <td>0</td>\n",
       "      <td>0</td>\n",
       "      <td>0</td>\n",
       "      <td>69</td>\n",
       "      <td>17</td>\n",
       "      <td>4</td>\n",
       "      <td>2023</td>\n",
       "      <td>265.0</td>\n",
       "    </tr>\n",
       "    <tr>\n",
       "      <th>1</th>\n",
       "      <td>1</td>\n",
       "      <td>2</td>\n",
       "      <td>29186</td>\n",
       "      <td>25055</td>\n",
       "      <td>0.06</td>\n",
       "      <td>0.07</td>\n",
       "      <td>1763</td>\n",
       "      <td>709</td>\n",
       "      <td>1033</td>\n",
       "      <td>21</td>\n",
       "      <td>0</td>\n",
       "      <td>0</td>\n",
       "      <td>0</td>\n",
       "      <td>69</td>\n",
       "      <td>9</td>\n",
       "      <td>0</td>\n",
       "      <td>2022</td>\n",
       "      <td>101.0</td>\n",
       "    </tr>\n",
       "  </tbody>\n",
       "</table>\n",
       "</div>"
      ],
      "text/plain": [
       "   Content Type  Sent by  Impressions  Reach  \\\n",
       "0             0        0        39681  32418   \n",
       "1             1        2        29186  25055   \n",
       "\n",
       "   Engagement Rate (per Impression)  Engagement Rate (per Reach)  Engagements  \\\n",
       "0                              0.05                         0.06         1942   \n",
       "1                              0.06                         0.07         1763   \n",
       "\n",
       "   Reactions  Comments  Saves  Video Views  Media Views  Organic Video Views  \\\n",
       "0       1261        56    625            0            0                    0   \n",
       "1        709      1033     21            0            0                    0   \n",
       "\n",
       "   Tags  PostHour  PostMonth  PostYear  num_post_words  \n",
       "0    69        17          4      2023           265.0  \n",
       "1    69         9          0      2022           101.0  "
      ]
     },
     "execution_count": 16,
     "metadata": {},
     "output_type": "execute_result"
    }
   ],
   "source": [
    "processed_X.head(2)"
   ]
  },
  {
   "cell_type": "code",
   "execution_count": 17,
   "metadata": {},
   "outputs": [],
   "source": [
    "from sklearn.model_selection import train_test_split\n",
    "from sklearn.feature_selection import SelectKBest,f_regression,mutual_info_regression,RFE\n",
    "from sklearn.linear_model import LinearRegression,Lasso\n",
    "from sklearn.ensemble import RandomForestRegressor,GradientBoostingRegressor\n",
    "from sklearn.tree import DecisionTreeRegressor\n",
    "from xgboost import XGBRegressor\n",
    "import lightgbm as lgb\n",
    "from sklearn.metrics import mean_absolute_error"
   ]
  },
  {
   "cell_type": "code",
   "execution_count": 18,
   "metadata": {},
   "outputs": [],
   "source": [
    "X_train,X_test,y_train,y_test = train_test_split(processed_X,y,test_size=0.2,random_state=42)"
   ]
  },
  {
   "cell_type": "code",
   "execution_count": 19,
   "metadata": {},
   "outputs": [
    {
     "data": {
      "image/png": "[encoded data removed]",
      "text/plain": [
       "<Figure size 1200x600 with 1 Axes>"
      ]
     },
     "metadata": {},
     "output_type": "display_data"
    }
   ],
   "source": [
    "models = {\n",
    "          \"Random Forest\":RandomForestRegressor(random_state=42),\n",
    "          \"Decision Tree\":DecisionTreeRegressor(random_state=42),\n",
    "          \"Gradient\":GradientBoostingRegressor(random_state=42),\n",
    "          \"XGBR\":XGBRegressor(random_state=42)\n",
    "          } \n",
    "\n",
    "methods = {\n",
    "    'SelectKBest': SelectKBest(f_regression, k=15),\n",
    "    'Mutual Information': SelectKBest(mutual_info_regression, k=15)\n",
    "}\n",
    "\n",
    "results = {}\n",
    "\n",
    "for model_name, model in models.items():\n",
    "    for method_name, method in methods.items():\n",
    "        X_selected = method.fit_transform(X_train, y_train)\n",
    "        X_test_selected = method.transform(X_test)\n",
    "        \n",
    "        model.fit(X_selected, y_train)\n",
    "        y_pred = model.predict(X_test_selected)\n",
    "        \n",
    "        mae = mean_absolute_error(y_test, y_pred)\n",
    "        results[f\"{model_name} + {method_name}\"] = mae\n",
    "\n",
    "results_df = pd.DataFrame(list(results.items()), columns=['Combination', 'MAE'])\n",
    "\n",
    "plt.figure(figsize=(12, 6))\n",
    "plt.barh(results_df['Combination'], results_df['MAE'], color='skyblue')\n",
    "plt.xlabel('Mean Absolute Error (MAE)')\n",
    "plt.xticks(rotation=45)\n",
    "plt.title('Comparison of Model + Feature Selection Combinations')\n",
    "plt.gca().invert_yaxis()  # Invert the y-axis for better readability\n",
    "plt.show()"
   ]
  },
  {
   "cell_type": "code",
   "execution_count": 20,
   "metadata": {},
   "outputs": [],
   "source": [
    "k = 15\n",
    "selector = SelectKBest(score_func=f_regression,k=k)\n",
    "X_selected = selector.fit_transform(X_train,y_train)\n",
    "X_test_selected = selector.transform(X_test)"
   ]
  },
  {
   "cell_type": "code",
   "execution_count": 21,
   "metadata": {},
   "outputs": [
    {
     "data": {
      "image/png": "[encoded data removed]",
      "text/plain": [
       "<Figure size 1200x500 with 1 Axes>"
      ]
     },
     "metadata": {},
     "output_type": "display_data"
    }
   ],
   "source": [
    "models = {\n",
    "          \"Random Forest\":RandomForestRegressor(random_state=42),\n",
    "          \"Decision Tree\":DecisionTreeRegressor(random_state=42),\n",
    "          \"Gradient\":GradientBoostingRegressor(random_state=42),\n",
    "          \"XGBR\":XGBRegressor(random_state=42)\n",
    "          } \n",
    "mae_values= []\n",
    "\n",
    "for name, model in models.items():\n",
    "     model.fit(X_selected,y_train)\n",
    "     preds = model.predict(X_test_selected)\n",
    "     accuracy =mean_absolute_error(y_test,preds)\n",
    "     mae_values.append(accuracy)\n",
    "\n",
    "plt.figure(figsize=(12,5))\n",
    "plt.subplot(1,2,1)\n",
    "\n",
    "sns.barplot(x= list(models.keys()), y = mae_values, palette = \"magma\")\n",
    "plt.title(\"MAE values of models\")\n",
    "plt.xticks(rotation=45)\n",
    "plt.show()"
   ]
  },
  {
   "cell_type": "code",
   "execution_count": 22,
   "metadata": {},
   "outputs": [
    {
     "name": "stdout",
     "output_type": "stream",
     "text": [
      "MAE of Random Forest is 1.6740\n"
     ]
    }
   ],
   "source": [
    "dt = DecisionTreeRegressor()\n",
    "dt.fit(X_selected,y_train)\n",
    "y_pred = dt.predict(X_test_selected)\n",
    "mae = mean_absolute_error(y_test,y_pred)\n",
    "print(f\"MAE of Random Forest is {mae:.4f}\")"
   ]
  }
 ],
 "metadata": {
  "kernelspec": {
   "display_name": "Python 3",
   "language": "python",
   "name": "python3"
  },
  "language_info": {
   "codemirror_mode": {
    "name": "ipython",
    "version": 3
   },
   "file_extension": ".py",
   "mimetype": "text/x-python",
   "name": "python",
   "nbconvert_exporter": "python",
   "pygments_lexer": "ipython3",
   "version": "3.11.4"
  },
  "orig_nbformat": 4
 },
 "nbformat": 4,
 "nbformat_minor": 2
}
