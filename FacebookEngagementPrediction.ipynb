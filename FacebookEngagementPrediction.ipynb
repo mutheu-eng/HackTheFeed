{
 "cells": [
  {
   "cell_type": "markdown",
   "metadata": {},
   "source": [
    "Predictive analytics is a powerful approach for extracting insights from data and guiding data-informed decision-making. In this notebook, I delve into predictive analysis using a Facebook dataset as the foundation. My primary focus is on predicting \"Engagements,\" a critical metric in the realm of social media. Engagements encompass various interactions with content, such as likes, shares, reactions, comments, and saves. These interactions signify how many individuals have not only viewed but actively engaged with the content. I leverage the carefully selected features retained throughout my analysis to achieve these predictions."
   ]
  },
  {
   "cell_type": "code",
   "execution_count": 1,
   "metadata": {},
   "outputs": [],
   "source": [
    "import pandas as pd\n",
    "import numpy as np\n",
    "import seaborn as sns\n",
    "import matplotlib.pyplot as plt\n",
    "import warnings\n",
    "warnings.filterwarnings(\"ignore\")"
   ]
  },
  {
   "cell_type": "code",
   "execution_count": 2,
   "metadata": {},
   "outputs": [],
   "source": [
    "path = \"C:/Users/user/Downloads/DiceyTechHack\"\n",
    "data = pd.read_csv(path +\"/FacebookData.csv\")"
   ]
  },
  {
   "cell_type": "code",
   "execution_count": 3,
   "metadata": {},
   "outputs": [
    {
     "data": {
      "text/html": [
       "<div>\n",
       "<style scoped>\n",
       "    .dataframe tbody tr th:only-of-type {\n",
       "        vertical-align: middle;\n",
       "    }\n",
       "\n",
       "    .dataframe tbody tr th {\n",
       "        vertical-align: top;\n",
       "    }\n",
       "\n",
       "    .dataframe thead th {\n",
       "        text-align: right;\n",
       "    }\n",
       "</style>\n",
       "<table border=\"1\" class=\"dataframe\">\n",
       "  <thead>\n",
       "    <tr style=\"text-align: right;\">\n",
       "      <th></th>\n",
       "      <th>Date</th>\n",
       "      <th>Content Type</th>\n",
       "      <th>Sent by</th>\n",
       "      <th>Post</th>\n",
       "      <th>Impressions</th>\n",
       "      <th>Viral Impressions</th>\n",
       "      <th>Non-viral Impressions</th>\n",
       "      <th>Fan Impressions</th>\n",
       "      <th>Non-fan Impressions</th>\n",
       "      <th>Reach</th>\n",
       "      <th>...</th>\n",
       "      <th>95% Video Views</th>\n",
       "      <th>Video Length (Seconds)</th>\n",
       "      <th>Average Video Time Watched (Seconds)</th>\n",
       "      <th>Video View Time (Seconds)</th>\n",
       "      <th>Unique Video Views</th>\n",
       "      <th>Unique 10-Second Video Views</th>\n",
       "      <th>Unique Full Video Views</th>\n",
       "      <th>Unique Organic 95% Video Views</th>\n",
       "      <th>Unique Paid 95% Video Views</th>\n",
       "      <th>Tags</th>\n",
       "    </tr>\n",
       "  </thead>\n",
       "  <tbody>\n",
       "    <tr>\n",
       "      <th>0</th>\n",
       "      <td>12/17/2022 17:08</td>\n",
       "      <td>Video</td>\n",
       "      <td>Damilare Oyekanmi</td>\n",
       "      <td>We celebrated recently with Novare, one of our...</td>\n",
       "      <td>207378</td>\n",
       "      <td>5</td>\n",
       "      <td>207373</td>\n",
       "      <td>1147</td>\n",
       "      <td>206231</td>\n",
       "      <td>207378</td>\n",
       "      <td>...</td>\n",
       "      <td>19</td>\n",
       "      <td>84</td>\n",
       "      <td>3</td>\n",
       "      <td>14825</td>\n",
       "      <td>975</td>\n",
       "      <td>263</td>\n",
       "      <td>62</td>\n",
       "      <td>19</td>\n",
       "      <td>0</td>\n",
       "      <td>CIB Posts</td>\n",
       "    </tr>\n",
       "    <tr>\n",
       "      <th>1</th>\n",
       "      <td>5/4/2019 10:01</td>\n",
       "      <td>Photo</td>\n",
       "      <td></td>\n",
       "      <td>N5k can get you started today. Call 01 280 126...</td>\n",
       "      <td>125784</td>\n",
       "      <td>23926</td>\n",
       "      <td>101858</td>\n",
       "      <td>103287</td>\n",
       "      <td>22497</td>\n",
       "      <td>92009</td>\n",
       "      <td>...</td>\n",
       "      <td>0</td>\n",
       "      <td>0</td>\n",
       "      <td>0</td>\n",
       "      <td>0</td>\n",
       "      <td>0</td>\n",
       "      <td>0</td>\n",
       "      <td>0</td>\n",
       "      <td>0</td>\n",
       "      <td>0</td>\n",
       "      <td>Other</td>\n",
       "    </tr>\n",
       "  </tbody>\n",
       "</table>\n",
       "<p>2 rows × 69 columns</p>\n",
       "</div>"
      ],
      "text/plain": [
       "               Date Content Type            Sent by  \\\n",
       "0  12/17/2022 17:08        Video  Damilare Oyekanmi   \n",
       "1    5/4/2019 10:01        Photo                      \n",
       "\n",
       "                                                Post  Impressions  \\\n",
       "0  We celebrated recently with Novare, one of our...       207378   \n",
       "1  N5k can get you started today. Call 01 280 126...       125784   \n",
       "\n",
       "   Viral Impressions  Non-viral Impressions  Fan Impressions  \\\n",
       "0                  5                 207373             1147   \n",
       "1              23926                 101858           103287   \n",
       "\n",
       "   Non-fan Impressions   Reach  ...  95% Video Views  Video Length (Seconds)  \\\n",
       "0               206231  207378  ...               19                      84   \n",
       "1                22497   92009  ...                0                       0   \n",
       "\n",
       "   Average Video Time Watched (Seconds)  Video View Time (Seconds)  \\\n",
       "0                                     3                      14825   \n",
       "1                                     0                          0   \n",
       "\n",
       "   Unique Video Views  Unique 10-Second Video Views  Unique Full Video Views  \\\n",
       "0                 975                           263                       62   \n",
       "1                   0                             0                        0   \n",
       "\n",
       "   Unique Organic 95% Video Views  Unique Paid 95% Video Views       Tags  \n",
       "0                              19                            0  CIB Posts  \n",
       "1                               0                            0      Other  \n",
       "\n",
       "[2 rows x 69 columns]"
      ]
     },
     "execution_count": 3,
     "metadata": {},
     "output_type": "execute_result"
    }
   ],
   "source": [
    "data.head(2)"
   ]
  },
  {
   "cell_type": "code",
   "execution_count": 4,
   "metadata": {},
   "outputs": [],
   "source": [
    "data[\"Date\"] = pd.to_datetime(data[\"Date\"])\n",
    "data[\"PostHour\"] = data[\"Date\"].dt.hour\n",
    "data[\"PostMonth\"] = data[\"Date\"].dt.month_name()\n",
    "data[\"PostYear\"] = data[\"Date\"].dt.year\n",
    "data[\"num_post_words\"] = data[\"Post\"].str.len()"
   ]
  },
  {
   "cell_type": "code",
   "execution_count": 5,
   "metadata": {},
   "outputs": [],
   "source": [
    "data[\"num_post_words\"].fillna(0, inplace=True)"
   ]
  },
  {
   "cell_type": "code",
   "execution_count": 6,
   "metadata": {},
   "outputs": [
    {
     "data": {
      "text/plain": [
       "Date                0\n",
       "Content Type        0\n",
       "Sent by             0\n",
       "Post              250\n",
       "Impressions         0\n",
       "                 ... \n",
       "Tags                0\n",
       "PostHour            0\n",
       "PostMonth           0\n",
       "PostYear            0\n",
       "num_post_words      0\n",
       "Length: 73, dtype: int64"
      ]
     },
     "execution_count": 6,
     "metadata": {},
     "output_type": "execute_result"
    }
   ],
   "source": [
    "data.isnull().sum()"
   ]
  },
  {
   "cell_type": "code",
   "execution_count": 7,
   "metadata": {},
   "outputs": [],
   "source": [
    "data.drop(\"Post\", axis=1, inplace=True)\n",
    "data.drop(\"Date\", axis=1, inplace=True)"
   ]
  },
  {
   "cell_type": "code",
   "execution_count": 8,
   "metadata": {},
   "outputs": [
    {
     "data": {
      "text/plain": [
       "Content Type              object\n",
       "Sent by                   object\n",
       "Impressions                int64\n",
       "Viral Impressions          int64\n",
       "Non-viral Impressions      int64\n",
       "                          ...   \n",
       "Tags                      object\n",
       "PostHour                   int64\n",
       "PostMonth                 object\n",
       "PostYear                   int64\n",
       "num_post_words           float64\n",
       "Length: 71, dtype: object"
      ]
     },
     "execution_count": 8,
     "metadata": {},
     "output_type": "execute_result"
    }
   ],
   "source": [
    "data.dtypes"
   ]
  },
  {
   "cell_type": "code",
   "execution_count": 9,
   "metadata": {},
   "outputs": [
    {
     "name": "stdout",
     "output_type": "stream",
     "text": [
      "There are 67 numeric and 4 categorical columns in train data\n"
     ]
    }
   ],
   "source": [
    "numeric_data = data.select_dtypes(include=[np.number])\n",
    "cat_data = data.select_dtypes(exclude=[np.number])\n",
    "print (\"There are {} numeric and {} categorical columns in train data\".format(numeric_data.shape[1],cat_data.shape[1]))"
   ]
  },
  {
   "cell_type": "code",
   "execution_count": 10,
   "metadata": {},
   "outputs": [
    {
     "name": "stdout",
     "output_type": "stream",
     "text": [
      "Engagements                         1.000000\n",
      "Reactions                           0.959632\n",
      "Likes                               0.958649\n",
      "Comments                            0.628941\n",
      "Shares                              0.601367\n",
      "                                      ...   \n",
      "Engagement Rate (per Impression)    0.009187\n",
      "Unique Paid 95% Video Views         0.000775\n",
      "Click-Through Rate                 -0.002047\n",
      "PostYear                           -0.003878\n",
      "num_post_words                     -0.021241\n",
      "Name: Engagements, Length: 67, dtype: float64\n"
     ]
    }
   ],
   "source": [
    "corr = numeric_data.corr()\n",
    "print(corr[\"Engagements\"].sort_values(ascending = False))"
   ]
  },
  {
   "cell_type": "code",
   "execution_count": 11,
   "metadata": {},
   "outputs": [],
   "source": [
    "X = data.drop([\"Engagements\"],axis=1)\n",
    "y = data[\"Engagements\"]"
   ]
  },
  {
   "cell_type": "markdown",
   "metadata": {},
   "source": [
    "DATA PREPROCESSING"
   ]
  },
  {
   "cell_type": "code",
   "execution_count": 12,
   "metadata": {},
   "outputs": [],
   "source": [
    "from sklearn.preprocessing import LabelEncoder"
   ]
  },
  {
   "cell_type": "code",
   "execution_count": 13,
   "metadata": {},
   "outputs": [],
   "source": [
    "le = LabelEncoder()\n",
    "\n",
    "def processing_data(dataa):\n",
    "     processed_data = data.copy()\n",
    "\n",
    "     categ = [\"Content Type\",\n",
    "              \"Sent by\",\n",
    "              \"Tags\",\n",
    "              \"PostMonth\"]\n",
    "    \n",
    "     for col in categ:\n",
    "        processed_data[col] = le.fit_transform(processed_data[col])\n",
    "\n",
    "     return pd.DataFrame(processed_data, columns = processed_data.columns) "
   ]
  },
  {
   "cell_type": "code",
   "execution_count": 14,
   "metadata": {},
   "outputs": [],
   "source": [
    "processed_X = processing_data(X)"
   ]
  },
  {
   "cell_type": "code",
   "execution_count": 15,
   "metadata": {},
   "outputs": [
    {
     "data": {
      "text/html": [
       "<div>\n",
       "<style scoped>\n",
       "    .dataframe tbody tr th:only-of-type {\n",
       "        vertical-align: middle;\n",
       "    }\n",
       "\n",
       "    .dataframe tbody tr th {\n",
       "        vertical-align: top;\n",
       "    }\n",
       "\n",
       "    .dataframe thead th {\n",
       "        text-align: right;\n",
       "    }\n",
       "</style>\n",
       "<table border=\"1\" class=\"dataframe\">\n",
       "  <thead>\n",
       "    <tr style=\"text-align: right;\">\n",
       "      <th></th>\n",
       "      <th>Content Type</th>\n",
       "      <th>Sent by</th>\n",
       "      <th>Impressions</th>\n",
       "      <th>Viral Impressions</th>\n",
       "      <th>Non-viral Impressions</th>\n",
       "      <th>Fan Impressions</th>\n",
       "      <th>Non-fan Impressions</th>\n",
       "      <th>Reach</th>\n",
       "      <th>Viral Reach</th>\n",
       "      <th>Non-viral Reach</th>\n",
       "      <th>...</th>\n",
       "      <th>Unique Video Views</th>\n",
       "      <th>Unique 10-Second Video Views</th>\n",
       "      <th>Unique Full Video Views</th>\n",
       "      <th>Unique Organic 95% Video Views</th>\n",
       "      <th>Unique Paid 95% Video Views</th>\n",
       "      <th>Tags</th>\n",
       "      <th>PostHour</th>\n",
       "      <th>PostMonth</th>\n",
       "      <th>PostYear</th>\n",
       "      <th>num_post_words</th>\n",
       "    </tr>\n",
       "  </thead>\n",
       "  <tbody>\n",
       "    <tr>\n",
       "      <th>0</th>\n",
       "      <td>3</td>\n",
       "      <td>3</td>\n",
       "      <td>207378</td>\n",
       "      <td>5</td>\n",
       "      <td>207373</td>\n",
       "      <td>1147</td>\n",
       "      <td>206231</td>\n",
       "      <td>207378</td>\n",
       "      <td>4</td>\n",
       "      <td>213627</td>\n",
       "      <td>...</td>\n",
       "      <td>975</td>\n",
       "      <td>263</td>\n",
       "      <td>62</td>\n",
       "      <td>19</td>\n",
       "      <td>0</td>\n",
       "      <td>45</td>\n",
       "      <td>17</td>\n",
       "      <td>2</td>\n",
       "      <td>2022</td>\n",
       "      <td>143.0</td>\n",
       "    </tr>\n",
       "    <tr>\n",
       "      <th>1</th>\n",
       "      <td>1</td>\n",
       "      <td>0</td>\n",
       "      <td>125784</td>\n",
       "      <td>23926</td>\n",
       "      <td>101858</td>\n",
       "      <td>103287</td>\n",
       "      <td>22497</td>\n",
       "      <td>92009</td>\n",
       "      <td>17238</td>\n",
       "      <td>76074</td>\n",
       "      <td>...</td>\n",
       "      <td>0</td>\n",
       "      <td>0</td>\n",
       "      <td>0</td>\n",
       "      <td>0</td>\n",
       "      <td>0</td>\n",
       "      <td>76</td>\n",
       "      <td>10</td>\n",
       "      <td>8</td>\n",
       "      <td>2019</td>\n",
       "      <td>89.0</td>\n",
       "    </tr>\n",
       "  </tbody>\n",
       "</table>\n",
       "<p>2 rows × 71 columns</p>\n",
       "</div>"
      ],
      "text/plain": [
       "   Content Type  Sent by  Impressions  Viral Impressions  \\\n",
       "0             3        3       207378                  5   \n",
       "1             1        0       125784              23926   \n",
       "\n",
       "   Non-viral Impressions  Fan Impressions  Non-fan Impressions   Reach  \\\n",
       "0                 207373             1147               206231  207378   \n",
       "1                 101858           103287                22497   92009   \n",
       "\n",
       "   Viral Reach  Non-viral Reach  ...  Unique Video Views  \\\n",
       "0            4           213627  ...                 975   \n",
       "1        17238            76074  ...                   0   \n",
       "\n",
       "   Unique 10-Second Video Views  Unique Full Video Views  \\\n",
       "0                           263                       62   \n",
       "1                             0                        0   \n",
       "\n",
       "   Unique Organic 95% Video Views  Unique Paid 95% Video Views  Tags  \\\n",
       "0                              19                            0    45   \n",
       "1                               0                            0    76   \n",
       "\n",
       "   PostHour  PostMonth  PostYear  num_post_words  \n",
       "0        17          2      2022           143.0  \n",
       "1        10          8      2019            89.0  \n",
       "\n",
       "[2 rows x 71 columns]"
      ]
     },
     "execution_count": 15,
     "metadata": {},
     "output_type": "execute_result"
    }
   ],
   "source": [
    "processed_X.head(2)"
   ]
  },
  {
   "cell_type": "code",
   "execution_count": 16,
   "metadata": {},
   "outputs": [
    {
     "data": {
      "text/plain": [
       "(9803, 71)"
      ]
     },
     "execution_count": 16,
     "metadata": {},
     "output_type": "execute_result"
    }
   ],
   "source": [
    "processed_X.shape"
   ]
  },
  {
   "cell_type": "code",
   "execution_count": 17,
   "metadata": {},
   "outputs": [],
   "source": [
    "from sklearn.model_selection import train_test_split\n",
    "from sklearn.feature_selection import SelectKBest,f_regression,mutual_info_regression,RFE\n",
    "from sklearn.linear_model import LinearRegression,Lasso\n",
    "from sklearn.ensemble import RandomForestRegressor,GradientBoostingRegressor\n",
    "from sklearn.tree import DecisionTreeRegressor\n",
    "from xgboost import XGBRegressor\n",
    "import lightgbm as lgb\n",
    "from sklearn.metrics import mean_absolute_error,mean_squared_error"
   ]
  },
  {
   "cell_type": "code",
   "execution_count": 18,
   "metadata": {},
   "outputs": [],
   "source": [
    "X_train,X_test,y_train,y_test = train_test_split(processed_X,y,test_size=0.2,random_state=42)"
   ]
  },
  {
   "cell_type": "code",
   "execution_count": 19,
   "metadata": {},
   "outputs": [
    {
     "data": {
      "text/plain": [
       "'\\nmodels = {\\n          \"Random Forest\":RandomForestRegressor(random_state=42),\\n          \"Decision Tree\":DecisionTreeRegressor(random_state=42),\\n          \"Gradient\":GradientBoostingRegressor(random_state=42),\\n          \"XGBR\":XGBRegressor(random_state=42)\\n          } \\n\\nmethods = {\\n    \\'SelectKBest\\': SelectKBest(f_regression, k=60),\\n    \\'Mutual Information\\': SelectKBest(mutual_info_regression, k=60)\\n}\\n\\nresults = {}\\n\\nfor model_name, model in models.items():\\n    for method_name, method in methods.items():\\n        X_selected = method.fit_transform(X_train, y_train)\\n        X_test_selected = method.transform(X_test)\\n        \\n        model.fit(X_selected, y_train)\\n        y_pred = model.predict(X_test_selected)\\n        \\n        mse = mean_squared_error(y_test, y_pred)\\n        results[f\"{model_name} + {method_name}\"] = mse\\n\\nresults_df = pd.DataFrame(list(results.items()), columns=[\\'Combination\\', \\'MSE\\'])\\n\\nplt.figure(figsize=(12, 6))\\nplt.barh(results_df[\\'Combination\\'], results_df[\\'MSE\\'], color=\\'skyblue\\')\\nplt.xlabel(\\'Mean Squared Error (MSE)\\')\\nplt.title(\\'Comparison of Model + Feature Selection Combinations\\')\\nplt.gca().invert_yaxis()  # Invert the y-axis for better readability\\nplt.show()\\n'"
      ]
     },
     "execution_count": 19,
     "metadata": {},
     "output_type": "execute_result"
    }
   ],
   "source": [
    "'''\n",
    "models = {\n",
    "          \"Random Forest\":RandomForestRegressor(random_state=42),\n",
    "          \"Decision Tree\":DecisionTreeRegressor(random_state=42),\n",
    "          \"Gradient\":GradientBoostingRegressor(random_state=42),\n",
    "          \"XGBR\":XGBRegressor(random_state=42)\n",
    "          } \n",
    "\n",
    "methods = {\n",
    "    'SelectKBest': SelectKBest(f_regression, k=60),\n",
    "    'Mutual Information': SelectKBest(mutual_info_regression, k=60)\n",
    "}\n",
    "\n",
    "results = {}\n",
    "\n",
    "for model_name, model in models.items():\n",
    "    for method_name, method in methods.items():\n",
    "        X_selected = method.fit_transform(X_train, y_train)\n",
    "        X_test_selected = method.transform(X_test)\n",
    "        \n",
    "        model.fit(X_selected, y_train)\n",
    "        y_pred = model.predict(X_test_selected)\n",
    "        \n",
    "        mse = mean_squared_error(y_test, y_pred)\n",
    "        results[f\"{model_name} + {method_name}\"] = mse\n",
    "\n",
    "results_df = pd.DataFrame(list(results.items()), columns=['Combination', 'MSE'])\n",
    "\n",
    "plt.figure(figsize=(12, 6))\n",
    "plt.barh(results_df['Combination'], results_df['MSE'], color='skyblue')\n",
    "plt.xlabel('Mean Squared Error (MSE)')\n",
    "plt.title('Comparison of Model + Feature Selection Combinations')\n",
    "plt.gca().invert_yaxis()  # Invert the y-axis for better readability\n",
    "plt.show()\n",
    "'''"
   ]
  },
  {
   "cell_type": "code",
   "execution_count": 20,
   "metadata": {},
   "outputs": [],
   "source": [
    "k = 65\n",
    "selector = SelectKBest(score_func=f_regression,k=k)\n",
    "X_selected = selector.fit_transform(X_train,y_train)\n",
    "X_test_selected = selector.transform(X_test)"
   ]
  },
  {
   "cell_type": "code",
   "execution_count": 21,
   "metadata": {},
   "outputs": [
    {
     "data": {
      "image/png": "[encoded data removed]",
      "text/plain": [
       "<Figure size 1200x500 with 1 Axes>"
      ]
     },
     "metadata": {},
     "output_type": "display_data"
    }
   ],
   "source": [
    "models = {\n",
    "          \"Random Forest\":RandomForestRegressor(random_state=42),\n",
    "          \"Decision Tree\":DecisionTreeRegressor(random_state=42),\n",
    "          \"Gradient\":GradientBoostingRegressor(random_state=42),\n",
    "          \"XGBR\":XGBRegressor(random_state=42)\n",
    "          } \n",
    "mae_values= []\n",
    "\n",
    "for name, model in models.items():\n",
    "     model.fit(X_train,y_train)\n",
    "     preds = model.predict(X_test)\n",
    "     accuracy =mean_absolute_error(y_test,preds)\n",
    "     mae_values.append(accuracy)\n",
    "\n",
    "plt.figure(figsize=(12,5))\n",
    "plt.subplot(1,2,1)\n",
    "\n",
    "sns.barplot(x= list(models.keys()), y = mae_values, palette = \"magma\")\n",
    "plt.title(\"MAE values of models\")\n",
    "plt.xticks(rotation=45)\n",
    "plt.show()"
   ]
  },
  {
   "cell_type": "code",
   "execution_count": 22,
   "metadata": {},
   "outputs": [
    {
     "name": "stdout",
     "output_type": "stream",
     "text": [
      "MAE of Random Forest is 3.1493\n"
     ]
    }
   ],
   "source": [
    "rf = RandomForestRegressor()\n",
    "rf.fit(X_train,y_train)\n",
    "y_pred = rf.predict(X_test)\n",
    "mae = mean_absolute_error(y_test,y_pred)\n",
    "print(f\"MAE of Random Forest is {mae:.4f}\")"
   ]
  }
 ],
 "metadata": {
  "kernelspec": {
   "display_name": "Python 3",
   "language": "python",
   "name": "python3"
  },
  "language_info": {
   "codemirror_mode": {
    "name": "ipython",
    "version": 3
   },
   "file_extension": ".py",
   "mimetype": "text/x-python",
   "name": "python",
   "nbconvert_exporter": "python",
   "pygments_lexer": "ipython3",
   "version": "3.11.4"
  },
  "orig_nbformat": 4
 },
 "nbformat": 4,
 "nbformat_minor": 2
}
